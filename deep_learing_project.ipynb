{
 "cells": [
  {
   "cell_type": "code",
   "execution_count": 1,
   "metadata": {
    "colab": {
     "base_uri": "https://localhost:8080/",
     "height": 1000
    },
    "colab_type": "code",
    "executionInfo": {
     "elapsed": 18195,
     "status": "ok",
     "timestamp": 1594215378778,
     "user": {
      "displayName": "Sumeet Zankar",
      "photoUrl": "https://lh3.googleusercontent.com/a-/AOh14Gj5a7e6XvDdwJG1sExY_Tc4AaxmktFNowPEG-kN8Q=s64",
      "userId": "09712304352027471477"
     },
     "user_tz": -120
    },
    "id": "aaZg3GU8l_xZ",
    "outputId": "0072426d-e46b-4a90-b363-dbb112570178"
   },
   "outputs": [
    {
     "name": "stdout",
     "output_type": "stream",
     "text": [
      "Collecting python-binance\n",
      "  Downloading https://files.pythonhosted.org/packages/02/ba/d253c7d0bd5c81a6cccd57140f13925e13995aeb0070ff58decd22d44793/python_binance-0.7.5-py2.py3-none-any.whl\n",
      "Collecting dateparser\n",
      "\u001b[?25l  Downloading https://files.pythonhosted.org/packages/c1/d5/5a2e51bc0058f66b54669735f739d27afc3eb453ab00520623c7ab168e22/dateparser-0.7.6-py2.py3-none-any.whl (362kB)\n",
      "\u001b[K     |████████████████████████████████| 368kB 7.3MB/s \n",
      "\u001b[?25hCollecting cryptography\n",
      "\u001b[?25l  Downloading https://files.pythonhosted.org/packages/3c/04/686efee2dcdd25aecf357992e7d9362f443eb182ecd623f882bc9f7a6bba/cryptography-2.9.2-cp35-abi3-manylinux2010_x86_64.whl (2.7MB)\n",
      "\u001b[K     |████████████████████████████████| 2.7MB 17.3MB/s \n",
      "\u001b[?25hRequirement already satisfied: six in /usr/local/lib/python3.6/dist-packages (from python-binance) (1.12.0)\n",
      "Collecting Twisted\n",
      "\u001b[?25l  Downloading https://files.pythonhosted.org/packages/b7/04/1a664c9e5ec0224a1c1a154ddecaa4dc7b8967521bba225efcc41a03d5f3/Twisted-20.3.0-cp36-cp36m-manylinux1_x86_64.whl (3.1MB)\n",
      "\u001b[K     |████████████████████████████████| 3.1MB 32.8MB/s \n",
      "\u001b[?25hRequirement already satisfied: certifi in /usr/local/lib/python3.6/dist-packages (from python-binance) (2020.6.20)\n",
      "Collecting service-identity\n",
      "  Downloading https://files.pythonhosted.org/packages/e9/7c/2195b890023e098f9618d43ebc337d83c8b38d414326685339eb024db2f6/service_identity-18.1.0-py2.py3-none-any.whl\n",
      "Collecting autobahn\n",
      "\u001b[?25l  Downloading https://files.pythonhosted.org/packages/ee/78/d1a629bd160bb6d24358c4e6766cf498cd1ec3bdd2858d03a509d8f54dfb/autobahn-20.6.2-py2.py3-none-any.whl (1.5MB)\n",
      "\u001b[K     |████████████████████████████████| 1.5MB 61.3MB/s \n",
      "\u001b[?25hRequirement already satisfied: urllib3 in /usr/local/lib/python3.6/dist-packages (from python-binance) (1.24.3)\n",
      "Collecting pyOpenSSL\n",
      "\u001b[?25l  Downloading https://files.pythonhosted.org/packages/9e/de/f8342b68fa9e981d348039954657bdf681b2ab93de27443be51865ffa310/pyOpenSSL-19.1.0-py2.py3-none-any.whl (53kB)\n",
      "\u001b[K     |████████████████████████████████| 61kB 7.6MB/s \n",
      "\u001b[?25hRequirement already satisfied: requests in /usr/local/lib/python3.6/dist-packages (from python-binance) (2.23.0)\n",
      "Requirement already satisfied: regex!=2019.02.19 in /usr/local/lib/python3.6/dist-packages (from dateparser->python-binance) (2019.12.20)\n",
      "Requirement already satisfied: python-dateutil in /usr/local/lib/python3.6/dist-packages (from dateparser->python-binance) (2.8.1)\n",
      "Requirement already satisfied: tzlocal in /usr/local/lib/python3.6/dist-packages (from dateparser->python-binance) (1.5.1)\n",
      "Requirement already satisfied: pytz in /usr/local/lib/python3.6/dist-packages (from dateparser->python-binance) (2018.9)\n",
      "Requirement already satisfied: cffi!=1.11.3,>=1.8 in /usr/local/lib/python3.6/dist-packages (from cryptography->python-binance) (1.14.0)\n",
      "Collecting Automat>=0.3.0\n",
      "  Downloading https://files.pythonhosted.org/packages/dd/83/5f6f3c1a562674d65efc320257bdc0873ec53147835aeef7762fe7585273/Automat-20.2.0-py2.py3-none-any.whl\n",
      "Collecting incremental>=16.10.1\n",
      "  Downloading https://files.pythonhosted.org/packages/f5/1d/c98a587dc06e107115cf4a58b49de20b19222c83d75335a192052af4c4b7/incremental-17.5.0-py2.py3-none-any.whl\n",
      "Collecting hyperlink>=17.1.1\n",
      "  Downloading https://files.pythonhosted.org/packages/7f/91/e916ca10a2de1cb7101a9b24da546fb90ee14629e23160086cf3361c4fb8/hyperlink-19.0.0-py2.py3-none-any.whl\n",
      "Collecting constantly>=15.1\n",
      "  Downloading https://files.pythonhosted.org/packages/b9/65/48c1909d0c0aeae6c10213340ce682db01b48ea900a7d9fce7a7910ff318/constantly-15.1.0-py2.py3-none-any.whl\n",
      "Requirement already satisfied: attrs>=19.2.0 in /usr/local/lib/python3.6/dist-packages (from Twisted->python-binance) (19.3.0)\n",
      "Collecting zope.interface>=4.4.2\n",
      "\u001b[?25l  Downloading https://files.pythonhosted.org/packages/57/33/565274c28a11af60b7cfc0519d46bde4125fcd7d32ebc0a81b480d0e8da6/zope.interface-5.1.0-cp36-cp36m-manylinux2010_x86_64.whl (234kB)\n",
      "\u001b[K     |████████████████████████████████| 235kB 33.3MB/s \n",
      "\u001b[?25hCollecting PyHamcrest!=1.10.0,>=1.9.0\n",
      "\u001b[?25l  Downloading https://files.pythonhosted.org/packages/40/16/e54cc65891f01cb62893540f44ffd3e8dab0a22443e1b438f1a9f5574bee/PyHamcrest-2.0.2-py3-none-any.whl (52kB)\n",
      "\u001b[K     |████████████████████████████████| 61kB 8.1MB/s \n",
      "\u001b[?25hRequirement already satisfied: pyasn1 in /usr/local/lib/python3.6/dist-packages (from service-identity->python-binance) (0.4.8)\n",
      "Requirement already satisfied: pyasn1-modules in /usr/local/lib/python3.6/dist-packages (from service-identity->python-binance) (0.2.8)\n",
      "Collecting txaio>=20.3.1\n",
      "  Downloading https://files.pythonhosted.org/packages/4f/82/0cd8d81d57e55a598cd4cef10c6e971dbcaf437e4f138dc1624cf7c1388e/txaio-20.4.1-py2.py3-none-any.whl\n",
      "Requirement already satisfied: idna<3,>=2.5 in /usr/local/lib/python3.6/dist-packages (from requests->python-binance) (2.9)\n",
      "Requirement already satisfied: chardet<4,>=3.0.2 in /usr/local/lib/python3.6/dist-packages (from requests->python-binance) (3.0.4)\n",
      "Requirement already satisfied: pycparser in /usr/local/lib/python3.6/dist-packages (from cffi!=1.11.3,>=1.8->cryptography->python-binance) (2.20)\n",
      "Requirement already satisfied: setuptools in /usr/local/lib/python3.6/dist-packages (from zope.interface>=4.4.2->Twisted->python-binance) (47.3.1)\n",
      "Installing collected packages: dateparser, cryptography, Automat, incremental, hyperlink, constantly, zope.interface, PyHamcrest, Twisted, service-identity, txaio, autobahn, pyOpenSSL, python-binance\n",
      "Successfully installed Automat-20.2.0 PyHamcrest-2.0.2 Twisted-20.3.0 autobahn-20.6.2 constantly-15.1.0 cryptography-2.9.2 dateparser-0.7.6 hyperlink-19.0.0 incremental-17.5.0 pyOpenSSL-19.1.0 python-binance-0.7.5 service-identity-18.1.0 txaio-20.4.1 zope.interface-5.1.0\n",
      "Collecting pyti\n",
      "  Downloading https://files.pythonhosted.org/packages/0f/9a/913e5bc3c3e812b490338fc9096b608cf0e19d1c3cd5b1c2b58b77b69b85/pyti-0.2.2-py2.py3-none-any.whl\n",
      "Requirement already satisfied: pandas in /usr/local/lib/python3.6/dist-packages (from pyti) (1.0.5)\n",
      "Requirement already satisfied: numpy in /usr/local/lib/python3.6/dist-packages (from pyti) (1.18.5)\n",
      "Requirement already satisfied: pytz>=2017.2 in /usr/local/lib/python3.6/dist-packages (from pandas->pyti) (2018.9)\n",
      "Requirement already satisfied: python-dateutil>=2.6.1 in /usr/local/lib/python3.6/dist-packages (from pandas->pyti) (2.8.1)\n",
      "Requirement already satisfied: six>=1.5 in /usr/local/lib/python3.6/dist-packages (from python-dateutil>=2.6.1->pandas->pyti) (1.12.0)\n",
      "Installing collected packages: pyti\n",
      "Successfully installed pyti-0.2.2\n"
     ]
    }
   ],
   "source": [
    "# IMPORT MODULES REQUIRED FOR API ###\n",
    "!pip install python-binance\n",
    "!pip install pyti\n",
    "!pip install -q matplotlib-venn\n"
   ]
  },
  {
   "cell_type": "code",
   "execution_count": 2,
   "metadata": {
    "colab": {
     "base_uri": "https://localhost:8080/",
     "height": 34
    },
    "colab_type": "code",
    "executionInfo": {
     "elapsed": 3012,
     "status": "ok",
     "timestamp": 1594215385993,
     "user": {
      "displayName": "Sumeet Zankar",
      "photoUrl": "https://lh3.googleusercontent.com/a-/AOh14Gj5a7e6XvDdwJG1sExY_Tc4AaxmktFNowPEG-kN8Q=s64",
      "userId": "09712304352027471477"
     },
     "user_tz": -120
    },
    "id": "_Izdq-cIeR7A",
    "outputId": "4aef9427-0572-4cdc-b116-5f017bbf775f"
   },
   "outputs": [
    {
     "name": "stderr",
     "output_type": "stream",
     "text": [
      "Using TensorFlow backend.\n"
     ]
    }
   ],
   "source": [
    "import numpy as np\n",
    "import matplotlib.pyplot as plt\n",
    "import pandas as pd\n",
    "from datetime import datetime\n",
    "from binance.client import Client\n",
    "import copy\n",
    "from pyti.exponential_moving_average import exponential_moving_average as ema\n",
    "from pyti.bollinger_bands import upper_bollinger_band as ubb\n",
    "from pyti.bollinger_bands import middle_bollinger_band as mbb\n",
    "from pyti.bollinger_bands import lower_bollinger_band as lbb\n",
    "from pyti.relative_strength_index import relative_strength_index as rsi\n",
    "\n",
    "\n",
    "%matplotlib inline\n",
    "\n",
    "from sklearn.preprocessing import StandardScaler\n",
    "from sklearn.decomposition import PCA\n",
    "from sklearn.model_selection import train_test_split\n",
    "\n",
    "from keras.wrappers.scikit_learn import KerasRegressor\n",
    "from keras.wrappers.scikit_learn import KerasClassifier\n",
    "from keras.models import Sequential\n",
    "from keras.layers import Dense,LSTM,GRU\n",
    "import keras\n",
    "\n",
    "from sklearn.model_selection import KFold\n",
    "from sklearn.model_selection import cross_val_score\n",
    "\n",
    "from sklearn.pipeline import Pipeline\n",
    "\n",
    "from sklearn.model_selection import GridSearchCV\n",
    "\n",
    "from keras import backend as K"
   ]
  },
  {
   "cell_type": "code",
   "execution_count": null,
   "metadata": {
    "colab": {},
    "colab_type": "code",
    "id": "7bSaffjPOcX5"
   },
   "outputs": [],
   "source": []
  },
  {
   "cell_type": "code",
   "execution_count": 3,
   "metadata": {
    "colab": {},
    "colab_type": "code",
    "executionInfo": {
     "elapsed": 411,
     "status": "ok",
     "timestamp": 1594215394000,
     "user": {
      "displayName": "Sumeet Zankar",
      "photoUrl": "https://lh3.googleusercontent.com/a-/AOh14Gj5a7e6XvDdwJG1sExY_Tc4AaxmktFNowPEG-kN8Q=s64",
      "userId": "09712304352027471477"
     },
     "user_tz": -120
    },
    "id": "KFK-YD27rWPN"
   },
   "outputs": [],
   "source": [
    "### METHOD FOR PULLING OHLCV DATA FROM API ###\n",
    "\n",
    "def get_binance_klines(period='4h'):\n",
    "\n",
    "  binance_keys = {\n",
    "      'api_key': \"TMu6CGy4SXCHDji8VHexZ18vOQYbrIfQo86hz0EOPpyzhBRIl4wZ1ivmmbEul2tu\",\n",
    "      'api_secret':\"x2pzaVdcB36TFEmcnMhJvir6o0qpXJ8foL9LGWAtCpHFcJCfdiah2toJCg7hJl4E\"\n",
    "  }\n",
    "\n",
    "  client = Client(binance_keys['api_key'],binance_keys['api_secret'])\n",
    "\n",
    "  if period == '15m':\n",
    "    return client.get_historical_klines(\"BTCUSDT\", Client.KLINE_INTERVAL_15MINUTE,\"1 Aug, 2017\")\n",
    "\n",
    "  if period == '4h':\n",
    "    return client.get_historical_klines(\"BTCUSDT\", Client.KLINE_INTERVAL_4HOUR,\"1 Aug, 2017\")\n",
    "\n",
    "  if period == '12h':\n",
    "    return client.get_historical_klines(\"BTCUSDT\", Client.KLINE_INTERVAL_12HOUR,\"1 Aug, 2017\")\n",
    "\n",
    "  if period == '6h':\n",
    "    return client.get_historical_klines(\"BTCUSDT\", Client.KLINE_INTERVAL_6HOUR,\"1 Aug, 2017\")\n",
    "\n",
    "  if period == '1d':\n",
    "    return client.get_historical_klines(\"BTCUSDT\", Client.KLINE_INTERVAL_1DAY,\"1 Aug, 2017\")\n",
    "\n",
    "  return None"
   ]
  },
  {
   "cell_type": "code",
   "execution_count": null,
   "metadata": {
    "colab": {},
    "colab_type": "code",
    "id": "VmVMIvIMwn7L"
   },
   "outputs": [],
   "source": []
  },
  {
   "cell_type": "code",
   "execution_count": 4,
   "metadata": {
    "colab": {},
    "colab_type": "code",
    "executionInfo": {
     "elapsed": 452,
     "status": "ok",
     "timestamp": 1594215409381,
     "user": {
      "displayName": "Sumeet Zankar",
      "photoUrl": "https://lh3.googleusercontent.com/a-/AOh14Gj5a7e6XvDdwJG1sExY_Tc4AaxmktFNowPEG-kN8Q=s64",
      "userId": "09712304352027471477"
     },
     "user_tz": -120
    },
    "id": "p58f2aUewn-y"
   },
   "outputs": [],
   "source": [
    "### GENERATE ADDITIONAL TECHNICAL INDICATORS FROM THE OPENING PRICE ###\n",
    "### INDICATORS INCLUDED: \n",
    "#### EMAs: EXPONENTIAL MOVING AVERAGES FOR VARIOUS PERIODS (5-200)\n",
    "#### BOLLINGER BANDS: UPPER, MIDDLE, LOWER BOLLINGER BAND AND BAND BREADTH\n",
    "#### MACD: MOVING AVERAGE CONVERGENCE DIVERGENCE\n",
    "#### RSI: RELATIVE STRENGTH INDEX \n",
    "\n",
    "def get_data(klines):\n",
    "    x = copy.deepcopy(pd.DataFrame(klines)[[1]])\n",
    "    x.rename(columns={1:\"Open\"},inplace=True)\n",
    "    for col in x.columns:\n",
    "        x[col] = x[col].astype(float)\n",
    "    \n",
    "    y_high = copy.deepcopy(pd.DataFrame(klines)[[2]])\n",
    "    y_high.rename(columns={2:\"High\"},inplace=True)\n",
    "    for col in y_high.columns:\n",
    "        y_high[col] = y_high[col].astype(float)\n",
    "    \n",
    "    y_low = copy.deepcopy(pd.DataFrame(klines)[[3]])\n",
    "    y_low.rename(columns={3:\"Low\"},inplace=True)\n",
    "    for col in y_low.columns:\n",
    "        y_low[col] = y_low[col].astype(float)\n",
    "    \n",
    "    y_close = copy.deepcopy(pd.DataFrame(klines)[[4]])\n",
    "    y_close.rename(columns={4:\"Close\"},inplace=True)\n",
    "    for col in y_close.columns:\n",
    "        y_close[col] = y_close[col].astype(float)\n",
    "    \n",
    "    closes = [elem[0] for elem in y_close.values]\n",
    "    opens = [elem for elem in x['Open'].values]\n",
    "    diff = [elem[0]-elem[1] for elem in zip(closes,opens)]\n",
    "    y_status = [1 if elem>=0 else 0 for elem in diff]\n",
    "\n",
    "    x['low_bollinger'] = lbb(x['Open'].tolist(),20)\n",
    "    x['high_bollinger'] = ubb(x['Open'].tolist(),20)\n",
    "    x['band_breadth'] = x['high_bollinger'] - x['low_bollinger']\n",
    "    x['middle_bollinger'] = mbb(x['Open'].tolist(),20)\n",
    "\n",
    "    x['rsi'] = rsi(x['Open'].tolist(),20)\n",
    "\n",
    "    x['ema_5'] = ema(x['Open'].tolist(),6)\n",
    "    x['ema_10'] = ema(x['Open'].tolist(),10)\n",
    "    x['ema_15'] = ema(x['Open'].tolist(),10)\n",
    "    x['ema_20'] = ema(x['Open'].tolist(),10)\n",
    "    x['ema_25'] = ema(x['Open'].tolist(),10)\n",
    "    x['ema_30'] = ema(x['Open'].tolist(),10)\n",
    "    x['ema_35'] = ema(x['Open'].tolist(),10)\n",
    "    x['ema_40'] = ema(x['Open'].tolist(),10)\n",
    "    x['ema_45'] = ema(x['Open'].tolist(),10)\n",
    "    x['ema_50'] = ema(x['Open'].tolist(),10)\n",
    "    x['ema_60'] = ema(x['Open'].tolist(),10)\n",
    "    x['ema_70'] = ema(x['Open'].tolist(),10)\n",
    "    x['ema_80'] = ema(x['Open'].tolist(),10)\n",
    "    x['ema_90'] = ema(x['Open'].tolist(),10)\n",
    "    x['ema_100'] = ema(x['Open'].tolist(),100)\n",
    "    x['ema_200'] = ema(x['Open'].tolist(),200)\n",
    "    \n",
    "    x['macd_line'] = ema(x['Open'].tolist(),12) - ema(x['Open'].tolist(),26)\n",
    "    x['macd_signal'] = ema(x['macd_line'].tolist(),9)\n",
    "    x['macd_histogram'] = x['macd_line'] - x['macd_signal']\n",
    "\n",
    "    x['fast_macd_line'] = ema(x['Open'].tolist(),5) - ema(x['Open'].tolist(),35)\n",
    "    x['fast_macd_signal'] = ema(x['fast_macd_line'].tolist(),5)\n",
    "    x['fast_macd_histogram'] = x['fast_macd_line'] - x['fast_macd_signal']\n",
    "\n",
    "    del x['Open']\n",
    "\n",
    "    x = x[200:]\n",
    "    y_close = y_close[200:]\n",
    "    y_high = y_high[200:]\n",
    "    y_low = y_low[200:]\n",
    "    y_status = y_status[200:]\n",
    "    x = x.reset_index(drop=True)\n",
    "    \n",
    "    #x,y_close,y_low,y_high = np.array(x),np.array(y_close),np.array(y_low),np.array(y_high)\n",
    "    \n",
    "    return x,y_close,y_low,y_high,y_status"
   ]
  },
  {
   "cell_type": "code",
   "execution_count": 5,
   "metadata": {
    "colab": {},
    "colab_type": "code",
    "executionInfo": {
     "elapsed": 1429,
     "status": "ok",
     "timestamp": 1594216069447,
     "user": {
      "displayName": "Sumeet Zankar",
      "photoUrl": "https://lh3.googleusercontent.com/a-/AOh14Gj5a7e6XvDdwJG1sExY_Tc4AaxmktFNowPEG-kN8Q=s64",
      "userId": "09712304352027471477"
     },
     "user_tz": -120
    },
    "id": "pQiNvJBFwn5a"
   },
   "outputs": [],
   "source": [
    "### PULL KLINE DATA USING API ###\n",
    "### NOTE:SUBJECT TO API LIMITS, USE SPARINGLY ###\n",
    "klines = get_binance_klines('1d')"
   ]
  },
  {
   "cell_type": "code",
   "execution_count": null,
   "metadata": {
    "colab": {},
    "colab_type": "code",
    "id": "HKT1cVxkpKFY"
   },
   "outputs": [],
   "source": []
  },
  {
   "cell_type": "code",
   "execution_count": 6,
   "metadata": {
    "colab": {},
    "colab_type": "code",
    "executionInfo": {
     "elapsed": 836,
     "status": "ok",
     "timestamp": 1594216106235,
     "user": {
      "displayName": "Sumeet Zankar",
      "photoUrl": "https://lh3.googleusercontent.com/a-/AOh14Gj5a7e6XvDdwJG1sExY_Tc4AaxmktFNowPEG-kN8Q=s64",
      "userId": "09712304352027471477"
     },
     "user_tz": -120
    },
    "id": "4-Muz_pFrSN3"
   },
   "outputs": [],
   "source": [
    "### GET INPUTS AND LABELS FOR ML MODELS ###\n",
    "### INPUT - INDICATORS(BOLLINGER BANDS, EMAs, RSI, MACD) CALCULATED ON OPEN PRICE\n",
    "### LABEL - LOW PRICE / HIGH PRICE / CLOSE PRICE / CANDLE TYPE\n",
    "x,y_close,y_low,y_high,y_status = get_data(klines)\n"
   ]
  },
  {
   "cell_type": "code",
   "execution_count": null,
   "metadata": {
    "colab": {},
    "colab_type": "code",
    "id": "zfd775Zs1hLm"
   },
   "outputs": [],
   "source": [
    "\n",
    "def \n",
    "### FOR ML CLASSIFICATION TASK, WE USE CANDLE TYPE AS LABELS ###\n",
    "### SPLIT INPUTS AND LABELS INTO TRAIN/TEST SETS ###\n",
    "X_train, X_test, Y_train, Y_test = train_test_split(x, y_status, test_size=0.05, shuffle=False)\n",
    "X_train,X_test, Y_train, Y_test = np.array(X_train),np.array(X_test),np.array(Y_train),np.array(Y_test)\n",
    "\n",
    "### SCALE DATA ###\n",
    "input_scaler = StandardScaler()\n",
    "X_train_std = input_scaler.fit_transform(X_train) \n",
    "X_test_std = input_scaler.transform(X_test)\n",
    "\n",
    "#target_scaler = StandardScaler()\n",
    "#Y_train_std = target_scaler.fit_transform(Y_train)\n",
    "#Y_test_std = target_scaler.transform(Y_test)\n",
    "\n",
    "### COMPRESS DATA ###\n",
    "input_pca = PCA(n_components=3)\n",
    "X_train_pca = input_pca.fit_transform(X_train_std)\n",
    "X_test_pca = input_pca.transform(X_test_std)"
   ]
  },
  {
   "cell_type": "code",
   "execution_count": null,
   "metadata": {
    "colab": {},
    "colab_type": "code",
    "id": "-RaILiq896sD"
   },
   "outputs": [],
   "source": [
    "### FOR ML REGRESSION TASK, WE USE CLOSE PRICE AS LABELS ###\n",
    "\n",
    "### SPLIT INPUTS AND LABELS INTO TRAIN/TEST SETS ###\n",
    "X_train, X_test, Y_train, Y_test = train_test_split(x, y_close, test_size=0.05, shuffle=False)\n",
    "X_train,X_test, Y_train, Y_test = np.array(X_train),np.array(X_test),np.array(Y_train),np.array(Y_test)\n",
    "\n",
    "### SCALE DATA ###\n",
    "input_scaler = StandardScaler()\n",
    "X_train_std = input_scaler.fit_transform(X_train) \n",
    "X_test_std = input_scaler.transform(X_test)\n",
    "\n",
    "target_scaler = StandardScaler()\n",
    "Y_train_std = target_scaler.fit_transform(Y_train)\n",
    "Y_test_std = target_scaler.transform(Y_test)\n",
    "\n",
    "### COMPRESS DATA ###\n",
    "input_pca = PCA(n_components=5)\n",
    "X_train_pca = input_pca.fit_transform(X_train_std)\n",
    "X_test_pca = input_pca.transform(X_test_std)"
   ]
  },
  {
   "cell_type": "code",
   "execution_count": null,
   "metadata": {
    "colab": {
     "base_uri": "https://localhost:8080/",
     "height": 380
    },
    "colab_type": "code",
    "executionInfo": {
     "elapsed": 808,
     "status": "ok",
     "timestamp": 1592411297064,
     "user": {
      "displayName": "Sumeet Zankar",
      "photoUrl": "https://lh3.googleusercontent.com/a-/AOh14Gj5a7e6XvDdwJG1sExY_Tc4AaxmktFNowPEG-kN8Q=s64",
      "userId": "09712304352027471477"
     },
     "user_tz": -120
    },
    "id": "mn3XJh8bzHsZ",
    "outputId": "426c2dfa-737f-4afa-fb22-c2062a243c9f"
   },
   "outputs": [
    {
     "name": "stderr",
     "output_type": "stream",
     "text": [
      "/usr/local/lib/python3.6/dist-packages/matplotlib/transforms.py:789: ComplexWarning: Casting complex values to real discards the imaginary part\n",
      "  points = np.array(args, dtype=float).reshape(2, 2)\n",
      "/usr/local/lib/python3.6/dist-packages/numpy/core/_asarray.py:85: ComplexWarning: Casting complex values to real discards the imaginary part\n",
      "  return array(a, dtype, copy=False, order=order)\n",
      "/usr/local/lib/python3.6/dist-packages/matplotlib/transforms.py:789: ComplexWarning: Casting complex values to real discards the imaginary part\n",
      "  points = np.array(args, dtype=float).reshape(2, 2)\n"
     ]
    },
    {
     "data": {
      "image/png": "[encoded data removed]",
      "text/plain": [
       "<Figure size 432x288 with 1 Axes>"
      ]
     },
     "metadata": {
      "needs_background": "light",
      "tags": []
     },
     "output_type": "display_data"
    }
   ],
   "source": [
    "### PLOT OF PRINCIPAL COMPONENTS' EXPLAINED VARIANCE ###\n",
    "### WE CAN SEE THAT OUT OF A TOTAL 27 PRINCIPAL COMPONENTS, THE 4 BIGGEST ALONE EXPLAIN MORE THAN 99.9% OF THE VARIANCE IN OUR DATA ###\n",
    "\n",
    "cov_mat = np.cov(X_train.T)\n",
    "eigen_vals, eigen_vecs = np.linalg.eig(cov_mat)\n",
    "tot = sum(eigen_vals)\n",
    "var_exp = [(i/tot) for i in sorted(eigen_vals,reverse=True)]\n",
    "cum_var_exp = np.cumsum(var_exp)\n",
    "plt.bar(range(1,len(var_exp)+1), var_exp, alpha=0.5, align='center',label='individual explained variance')\n",
    "plt.step(range(1,len(cum_var_exp)+1),cum_var_exp, where='mid',label='cumulative explained variance')\n",
    "plt.ylabel('Explained variance ratio')\n",
    "plt.xlabel('Principal Components')\n",
    "plt.legend(loc='best')\n",
    "plt.show()"
   ]
  },
  {
   "cell_type": "code",
   "execution_count": null,
   "metadata": {
    "colab": {
     "base_uri": "https://localhost:8080/",
     "height": 335
    },
    "colab_type": "code",
    "executionInfo": {
     "elapsed": 865,
     "status": "ok",
     "timestamp": 1592418705760,
     "user": {
      "displayName": "Sumeet Zankar",
      "photoUrl": "https://lh3.googleusercontent.com/a-/AOh14Gj5a7e6XvDdwJG1sExY_Tc4AaxmktFNowPEG-kN8Q=s64",
      "userId": "09712304352027471477"
     },
     "user_tz": -120
    },
    "id": "vW0uZwgiUt7N",
    "outputId": "278f6f2e-7952-4887-96ca-439ae971b59b"
   },
   "outputs": [
    {
     "name": "stderr",
     "output_type": "stream",
     "text": [
      "/usr/local/lib/python3.6/dist-packages/ipykernel_launcher.py:17: UserWarning: Requested projection is different from current axis projection, creating new axis with requested projection.\n",
      "/usr/local/lib/python3.6/dist-packages/ipykernel_launcher.py:17: MatplotlibDeprecationWarning: Adding an axes using the same arguments as a previous axes currently reuses the earlier instance.  In a future version, a new instance will always be created and returned.  Meanwhile, this warning can be suppressed, and the future behavior ensured, by passing a unique label to each axes instance.\n",
      "No handles with labels found to put in legend.\n"
     ]
    },
    {
     "data": {
      "text/plain": [
       "<matplotlib.legend.Legend at 0x7fa23015e080>"
      ]
     },
     "execution_count": 120,
     "metadata": {
      "tags": []
     },
     "output_type": "execute_result"
    },
    {
     "data": {
      "image/png": "[encoded data removed]",
      "text/plain": [
       "<Figure size 432x288 with 1 Axes>"
      ]
     },
     "metadata": {
      "needs_background": "light",
      "tags": []
     },
     "output_type": "display_data"
    }
   ],
   "source": [
    "import numpy as np\n",
    "import matplotlib.pyplot as plt\n",
    "from mpl_toolkits.mplot3d import axes3d\n",
    "\n",
    "### PLOT OF LABELS VS. ALL 5 PRINCIPAL COMPONENTS ###\n",
    "### LABEL PLOTTED ALONG Y-AXIS###\n",
    "### PRINCIPAL COMPONENTS PLOTTED ALONG X-AXIS ###\n",
    "pc1= np.array([row[0] for row in X_train_pca])\n",
    "pc2= np.array([row[1] for row in X_train_pca])\n",
    "pc3= np.array([row[2] for row in X_train_pca])\n",
    "\n",
    "#pc4=np.array([row[3] for row in X_train_pca])\n",
    "#pc5=np.array([row[4] for row in X_train_pca])\n",
    "\n",
    "fig = plt.figure()\n",
    "ax = plt.axes()\n",
    "ax = fig.gca(projection='3d')\n",
    "\n",
    "color= ['red' if elem == 0 else 'green' for elem in Y_train]\n",
    "\n",
    "ax.scatter(pc1, pc2, pc3, color=color)\n",
    "\n",
    "ax.legend()"
   ]
  },
  {
   "cell_type": "code",
   "execution_count": null,
   "metadata": {
    "colab": {},
    "colab_type": "code",
    "id": "c98BOT8z8-cH"
   },
   "outputs": [],
   "source": []
  },
  {
   "cell_type": "code",
   "execution_count": null,
   "metadata": {
    "colab": {
     "base_uri": "https://localhost:8080/",
     "height": 34
    },
    "colab_type": "code",
    "executionInfo": {
     "elapsed": 504,
     "status": "ok",
     "timestamp": 1592411376163,
     "user": {
      "displayName": "Sumeet Zankar",
      "photoUrl": "https://lh3.googleusercontent.com/a-/AOh14Gj5a7e6XvDdwJG1sExY_Tc4AaxmktFNowPEG-kN8Q=s64",
      "userId": "09712304352027471477"
     },
     "user_tz": -120
    },
    "id": "hFuMgeWjxuA-",
    "outputId": "eb803813-11b8-40e2-ccf4-0566341b9b35"
   },
   "outputs": [
    {
     "data": {
      "text/plain": [
       "((5997, 27), (5997,))"
      ]
     },
     "execution_count": 14,
     "metadata": {
      "tags": []
     },
     "output_type": "execute_result"
    }
   ],
   "source": [
    "### DATAFRAME ###\n",
    "np.shape(x),np.shape(y_status)"
   ]
  },
  {
   "cell_type": "code",
   "execution_count": null,
   "metadata": {
    "colab": {
     "base_uri": "https://localhost:8080/",
     "height": 34
    },
    "colab_type": "code",
    "executionInfo": {
     "elapsed": 587,
     "status": "ok",
     "timestamp": 1592411382344,
     "user": {
      "displayName": "Sumeet Zankar",
      "photoUrl": "https://lh3.googleusercontent.com/a-/AOh14Gj5a7e6XvDdwJG1sExY_Tc4AaxmktFNowPEG-kN8Q=s64",
      "userId": "09712304352027471477"
     },
     "user_tz": -120
    },
    "id": "SGxLgHCm96vP",
    "outputId": "85f6d5be-b870-40bd-f898-d144c55ff084"
   },
   "outputs": [
    {
     "data": {
      "text/plain": [
       "((5697, 5), (5697,))"
      ]
     },
     "execution_count": 15,
     "metadata": {
      "tags": []
     },
     "output_type": "execute_result"
    }
   ],
   "source": [
    "### INPUTS FOR SIMPLE NN MODEL (TRAINING,PREDICTION) ###\n",
    "np.shape(X_train_pca), np.shape(Y_train)"
   ]
  },
  {
   "cell_type": "code",
   "execution_count": null,
   "metadata": {
    "colab": {
     "base_uri": "https://localhost:8080/",
     "height": 34
    },
    "colab_type": "code",
    "executionInfo": {
     "elapsed": 489,
     "status": "ok",
     "timestamp": 1592411385917,
     "user": {
      "displayName": "Sumeet Zankar",
      "photoUrl": "https://lh3.googleusercontent.com/a-/AOh14Gj5a7e6XvDdwJG1sExY_Tc4AaxmktFNowPEG-kN8Q=s64",
      "userId": "09712304352027471477"
     },
     "user_tz": -120
    },
    "id": "rUa6KXFHxTEW",
    "outputId": "c8a14749-70b8-4d31-c43f-c5aacb746a68"
   },
   "outputs": [
    {
     "data": {
      "text/plain": [
       "((300, 5), (300,))"
      ]
     },
     "execution_count": 16,
     "metadata": {
      "tags": []
     },
     "output_type": "execute_result"
    }
   ],
   "source": [
    "### LABELS FOR THE SIMPLE NN MODEL (TRAINING,PREDICTION) ###\n",
    "np.shape(X_test_pca), np.shape(Y_test)"
   ]
  },
  {
   "cell_type": "code",
   "execution_count": null,
   "metadata": {
    "colab": {},
    "colab_type": "code",
    "id": "c6ILiKEozHv7"
   },
   "outputs": [],
   "source": [
    "### MODEL 1 - SIMPLE DEEP NEURAL NET ### \n",
    "\n",
    "### METHOD FOR CREATING NEURAL NET ###\n",
    "def create_simple_nn(input_shape=(np.shape(X_train_pca)[1],),loss=keras.losses.BinaryCrossentropy(from_logits=False),\n",
    "              optimizer=keras.optimizers.Adam(learning_rate=0.01,beta_1=0.9,beta_2=0.999,amsgrad=False),\n",
    "              metrics = ['accuracy'],\n",
    "              units = 100,\n",
    "              activation='sigmoid',\n",
    "              use_bias=True,\n",
    "              initializer = keras.initializers.TruncatedNormal(mean=0.0, stddev=0.075,seed=777),\n",
    "              regularizer=None,\n",
    "              batch_size=32,\n",
    "              epochs=1,\n",
    "              shuffle=False):\n",
    "    \n",
    "    simple_nn = Sequential()\n",
    "\n",
    "    #for layer in range(np.shape(X_train_pca)[1]-1):\n",
    "    #  simple_nn.add(Dense(units=np.shape(X_train_pca)[1]-layer,activation=activation,use_bias=use_bias,kernel_initializer=initializer,bias_initializer=initializer,\n",
    "    #                          kernel_regularizer=regularizer,bias_regularizer=regularizer,activity_regularizer=regularizer,\n",
    "    #                          kernel_constraint=None,bias_constraint=None,input_shape=input_shape))\n",
    "\n",
    "\n",
    "    simple_nn.add(Dense(units=units,activation=activation,use_bias=use_bias,kernel_initializer=initializer,bias_initializer=initializer,\n",
    "                              kernel_regularizer=regularizer,bias_regularizer=regularizer,activity_regularizer=regularizer,\n",
    "                              kernel_constraint=None,bias_constraint=None,input_shape=input_shape))\n",
    "\n",
    "    simple_nn.add(Dense(units=units//2,activation=activation,use_bias=use_bias,kernel_initializer=initializer,bias_initializer=initializer,\n",
    "                              kernel_regularizer=regularizer,bias_regularizer=regularizer,activity_regularizer=regularizer,\n",
    "                              kernel_constraint=None,bias_constraint=None))\n",
    "\n",
    "    simple_nn.add(Dense(units=units//4,activation=activation,use_bias=use_bias,kernel_initializer=initializer,bias_initializer=initializer,\n",
    "                              kernel_regularizer=regularizer,bias_regularizer=regularizer,activity_regularizer=regularizer,\n",
    "                              kernel_constraint=None,bias_constraint=None))\n",
    "\n",
    "    simple_nn.add(Dense(units=units//8,activation=activation,use_bias=use_bias,kernel_initializer=initializer,bias_initializer=initializer,\n",
    "                              kernel_regularizer=regularizer,bias_regularizer=regularizer,activity_regularizer=regularizer,\n",
    "                              kernel_constraint=None,bias_constraint=None))\n",
    "\n",
    "    simple_nn.add(Dense(units=units//16,activation=activation,use_bias=use_bias,kernel_initializer=initializer,bias_initializer=initializer,\n",
    "                              kernel_regularizer=regularizer,bias_regularizer=regularizer,activity_regularizer=regularizer,\n",
    "                              kernel_constraint=None,bias_constraint=None))\n",
    "\n",
    "    \n",
    "    simple_nn.add(Dense(units=1,activation=activation ,use_bias=use_bias,kernel_initializer=initializer,bias_initializer=initializer,\n",
    "                              kernel_regularizer=regularizer,bias_regularizer=regularizer,activity_regularizer=regularizer,\n",
    "                              kernel_constraint=None,bias_constraint=None))\n",
    "\n",
    "    simple_nn.compile(loss=loss,optimizer=optimizer,metrics=metrics)\n",
    "    \n",
    "    #history = simple_nn.fit(x=x_train,y=y_train,batch_size=params['batch_size'],epochs=params['epochs'],verbose=0,callbacks=None,shuffle=True)\n",
    "\n",
    "    return simple_nn\n"
   ]
  },
  {
   "cell_type": "code",
   "execution_count": null,
   "metadata": {
    "colab": {
     "base_uri": "https://localhost:8080/",
     "height": 1000
    },
    "colab_type": "code",
    "executionInfo": {
     "elapsed": 155751,
     "status": "ok",
     "timestamp": 1592419460644,
     "user": {
      "displayName": "Sumeet Zankar",
      "photoUrl": "https://lh3.googleusercontent.com/a-/AOh14Gj5a7e6XvDdwJG1sExY_Tc4AaxmktFNowPEG-kN8Q=s64",
      "userId": "09712304352027471477"
     },
     "user_tz": -120
    },
    "id": "KJjsFgXrLv-5",
    "outputId": "e08855c4-eec0-4491-c8c9-34e4ebfad2f3"
   },
   "outputs": [
    {
     "name": "stdout",
     "output_type": "stream",
     "text": [
      "Train on 5127 samples, validate on 570 samples\n",
      "Epoch 1/100\n",
      "5127/5127 [==============================] - 2s 317us/step - loss: 0.9793 - accuracy: 0.4978 - val_loss: 0.6996 - val_accuracy: 0.4754\n",
      "Epoch 2/100\n",
      "5127/5127 [==============================] - 1s 286us/step - loss: 0.7006 - accuracy: 0.5046 - val_loss: 0.7126 - val_accuracy: 0.5228\n",
      "Epoch 3/100\n",
      "5127/5127 [==============================] - 1s 278us/step - loss: 0.6993 - accuracy: 0.5143 - val_loss: 0.6904 - val_accuracy: 0.5228\n",
      "Epoch 4/100\n",
      "5127/5127 [==============================] - 1s 280us/step - loss: 0.6973 - accuracy: 0.5175 - val_loss: 0.6917 - val_accuracy: 0.5193\n",
      "Epoch 5/100\n",
      "5127/5127 [==============================] - 1s 282us/step - loss: 0.6970 - accuracy: 0.5177 - val_loss: 0.7194 - val_accuracy: 0.4772\n",
      "Epoch 6/100\n",
      "5127/5127 [==============================] - 1s 281us/step - loss: 0.7001 - accuracy: 0.4997 - val_loss: 0.6976 - val_accuracy: 0.5228\n",
      "Epoch 7/100\n",
      "5127/5127 [==============================] - 1s 280us/step - loss: 0.6979 - accuracy: 0.5116 - val_loss: 0.6926 - val_accuracy: 0.5105\n",
      "Epoch 8/100\n",
      "5127/5127 [==============================] - 1s 281us/step - loss: 0.6943 - accuracy: 0.5138 - val_loss: 0.7041 - val_accuracy: 0.4842\n",
      "Epoch 9/100\n",
      "5127/5127 [==============================] - 1s 275us/step - loss: 0.6943 - accuracy: 0.5085 - val_loss: 0.6959 - val_accuracy: 0.4982\n",
      "Epoch 10/100\n",
      "5127/5127 [==============================] - 1s 277us/step - loss: 0.6954 - accuracy: 0.5073 - val_loss: 0.6942 - val_accuracy: 0.5263\n",
      "Epoch 11/100\n",
      "5127/5127 [==============================] - 1s 282us/step - loss: 0.6945 - accuracy: 0.5130 - val_loss: 0.7039 - val_accuracy: 0.5228\n",
      "Epoch 12/100\n",
      "5127/5127 [==============================] - 1s 280us/step - loss: 0.6952 - accuracy: 0.5095 - val_loss: 0.6923 - val_accuracy: 0.5228\n",
      "Epoch 13/100\n",
      "5127/5127 [==============================] - 1s 279us/step - loss: 0.6945 - accuracy: 0.5098 - val_loss: 0.6959 - val_accuracy: 0.5228\n",
      "Epoch 14/100\n",
      "5127/5127 [==============================] - 1s 277us/step - loss: 0.6947 - accuracy: 0.5175 - val_loss: 0.7045 - val_accuracy: 0.4772\n",
      "Epoch 15/100\n",
      "5127/5127 [==============================] - 1s 278us/step - loss: 0.6927 - accuracy: 0.5223 - val_loss: 0.7056 - val_accuracy: 0.4825\n",
      "Epoch 16/100\n",
      "5127/5127 [==============================] - 1s 273us/step - loss: 0.6925 - accuracy: 0.5163 - val_loss: 0.7009 - val_accuracy: 0.5193\n",
      "Epoch 17/100\n",
      "5127/5127 [==============================] - 1s 278us/step - loss: 0.6927 - accuracy: 0.5194 - val_loss: 0.6967 - val_accuracy: 0.4930\n",
      "Epoch 18/100\n",
      "5127/5127 [==============================] - 1s 276us/step - loss: 0.6945 - accuracy: 0.5177 - val_loss: 0.6926 - val_accuracy: 0.5211\n",
      "Epoch 19/100\n",
      "5127/5127 [==============================] - 2s 300us/step - loss: 0.6944 - accuracy: 0.5177 - val_loss: 0.6932 - val_accuracy: 0.5228\n",
      "Epoch 20/100\n",
      "5127/5127 [==============================] - 2s 307us/step - loss: 0.6931 - accuracy: 0.5149 - val_loss: 0.6968 - val_accuracy: 0.5246\n",
      "Epoch 21/100\n",
      "5127/5127 [==============================] - 2s 303us/step - loss: 0.6936 - accuracy: 0.5219 - val_loss: 0.6953 - val_accuracy: 0.5175\n",
      "Epoch 22/100\n",
      "5127/5127 [==============================] - 1s 292us/step - loss: 0.6937 - accuracy: 0.5095 - val_loss: 0.6947 - val_accuracy: 0.5228\n",
      "Epoch 23/100\n",
      "5127/5127 [==============================] - 1s 279us/step - loss: 0.6924 - accuracy: 0.5102 - val_loss: 0.6924 - val_accuracy: 0.5228\n",
      "Epoch 24/100\n",
      "5127/5127 [==============================] - 1s 289us/step - loss: 0.6927 - accuracy: 0.5161 - val_loss: 0.6971 - val_accuracy: 0.4807\n",
      "Epoch 25/100\n",
      "5127/5127 [==============================] - 1s 284us/step - loss: 0.6918 - accuracy: 0.5227 - val_loss: 0.6959 - val_accuracy: 0.5246\n",
      "Epoch 26/100\n",
      "5127/5127 [==============================] - 1s 287us/step - loss: 0.6923 - accuracy: 0.5202 - val_loss: 0.6974 - val_accuracy: 0.4561\n",
      "Epoch 27/100\n",
      "5127/5127 [==============================] - 1s 285us/step - loss: 0.6928 - accuracy: 0.5239 - val_loss: 0.6938 - val_accuracy: 0.5246\n",
      "Epoch 28/100\n",
      "5127/5127 [==============================] - 1s 282us/step - loss: 0.6919 - accuracy: 0.5198 - val_loss: 0.6997 - val_accuracy: 0.4807\n",
      "Epoch 29/100\n",
      "5127/5127 [==============================] - 1s 286us/step - loss: 0.6926 - accuracy: 0.5128 - val_loss: 0.6971 - val_accuracy: 0.4877\n",
      "Epoch 30/100\n",
      "5127/5127 [==============================] - 1s 282us/step - loss: 0.6901 - accuracy: 0.5297 - val_loss: 0.6925 - val_accuracy: 0.5386\n",
      "Epoch 31/100\n",
      "5127/5127 [==============================] - 2s 315us/step - loss: 0.6915 - accuracy: 0.5167 - val_loss: 0.6967 - val_accuracy: 0.4895\n",
      "Epoch 32/100\n",
      "5127/5127 [==============================] - 1s 288us/step - loss: 0.6912 - accuracy: 0.5282 - val_loss: 0.6969 - val_accuracy: 0.5070\n",
      "Epoch 33/100\n",
      "5127/5127 [==============================] - 1s 287us/step - loss: 0.6909 - accuracy: 0.5299 - val_loss: 0.6955 - val_accuracy: 0.5281\n",
      "Epoch 34/100\n",
      "5127/5127 [==============================] - 2s 297us/step - loss: 0.6909 - accuracy: 0.5290 - val_loss: 0.6984 - val_accuracy: 0.5158\n",
      "Epoch 35/100\n",
      "5127/5127 [==============================] - 2s 300us/step - loss: 0.6905 - accuracy: 0.5225 - val_loss: 0.6968 - val_accuracy: 0.5140\n",
      "Epoch 36/100\n",
      "5127/5127 [==============================] - 2s 301us/step - loss: 0.6929 - accuracy: 0.5167 - val_loss: 0.6960 - val_accuracy: 0.4965\n",
      "Epoch 37/100\n",
      "5127/5127 [==============================] - 2s 302us/step - loss: 0.6915 - accuracy: 0.5270 - val_loss: 0.6986 - val_accuracy: 0.4965\n",
      "Epoch 38/100\n",
      "5127/5127 [==============================] - 2s 302us/step - loss: 0.6910 - accuracy: 0.5229 - val_loss: 0.6951 - val_accuracy: 0.5281\n",
      "Epoch 39/100\n",
      "5127/5127 [==============================] - 2s 300us/step - loss: 0.6889 - accuracy: 0.5307 - val_loss: 0.6996 - val_accuracy: 0.5298\n",
      "Epoch 40/100\n",
      "5127/5127 [==============================] - 2s 306us/step - loss: 0.6893 - accuracy: 0.5313 - val_loss: 0.6977 - val_accuracy: 0.4895\n",
      "Epoch 41/100\n",
      "5127/5127 [==============================] - 2s 302us/step - loss: 0.6906 - accuracy: 0.5204 - val_loss: 0.7014 - val_accuracy: 0.5193\n",
      "Epoch 42/100\n",
      "5127/5127 [==============================] - 2s 335us/step - loss: 0.6909 - accuracy: 0.5180 - val_loss: 0.6990 - val_accuracy: 0.5193\n",
      "Epoch 43/100\n",
      "5127/5127 [==============================] - 2s 342us/step - loss: 0.6884 - accuracy: 0.5315 - val_loss: 0.7024 - val_accuracy: 0.4965\n",
      "Epoch 44/100\n",
      "5127/5127 [==============================] - 2s 328us/step - loss: 0.6883 - accuracy: 0.5309 - val_loss: 0.7030 - val_accuracy: 0.4526\n",
      "Epoch 45/100\n",
      "5127/5127 [==============================] - 2s 339us/step - loss: 0.6887 - accuracy: 0.5319 - val_loss: 0.7158 - val_accuracy: 0.5228\n",
      "Epoch 46/100\n",
      "5127/5127 [==============================] - 2s 346us/step - loss: 0.6887 - accuracy: 0.5348 - val_loss: 0.7040 - val_accuracy: 0.4825\n",
      "Epoch 47/100\n",
      "5127/5127 [==============================] - 2s 341us/step - loss: 0.6894 - accuracy: 0.5229 - val_loss: 0.7121 - val_accuracy: 0.5228\n",
      "Epoch 48/100\n",
      "5127/5127 [==============================] - 2s 313us/step - loss: 0.6897 - accuracy: 0.5241 - val_loss: 0.7034 - val_accuracy: 0.5140\n",
      "Epoch 49/100\n",
      "5127/5127 [==============================] - 2s 318us/step - loss: 0.6876 - accuracy: 0.5256 - val_loss: 0.7057 - val_accuracy: 0.4772\n",
      "Epoch 50/100\n",
      "5127/5127 [==============================] - 2s 325us/step - loss: 0.6873 - accuracy: 0.5340 - val_loss: 0.7107 - val_accuracy: 0.5211\n",
      "Epoch 51/100\n",
      "5127/5127 [==============================] - 2s 312us/step - loss: 0.6878 - accuracy: 0.5387 - val_loss: 0.7079 - val_accuracy: 0.5070\n",
      "Epoch 52/100\n",
      "5127/5127 [==============================] - 2s 303us/step - loss: 0.6883 - accuracy: 0.5241 - val_loss: 0.7080 - val_accuracy: 0.4737\n",
      "Epoch 53/100\n",
      "5127/5127 [==============================] - 2s 309us/step - loss: 0.6869 - accuracy: 0.5352 - val_loss: 0.7083 - val_accuracy: 0.4982\n",
      "Epoch 54/100\n",
      "5127/5127 [==============================] - 2s 305us/step - loss: 0.6878 - accuracy: 0.5329 - val_loss: 0.7193 - val_accuracy: 0.5000\n",
      "Epoch 55/100\n",
      "5127/5127 [==============================] - 2s 309us/step - loss: 0.6943 - accuracy: 0.5366 - val_loss: 0.7138 - val_accuracy: 0.5263\n",
      "Epoch 56/100\n",
      "5127/5127 [==============================] - 2s 304us/step - loss: 0.6878 - accuracy: 0.5418 - val_loss: 0.7132 - val_accuracy: 0.4649\n",
      "Epoch 57/100\n",
      "5127/5127 [==============================] - 2s 301us/step - loss: 0.6851 - accuracy: 0.5413 - val_loss: 0.7164 - val_accuracy: 0.5193\n",
      "Epoch 58/100\n",
      "5127/5127 [==============================] - 2s 303us/step - loss: 0.6850 - accuracy: 0.5311 - val_loss: 0.7138 - val_accuracy: 0.4684\n",
      "Epoch 59/100\n",
      "5127/5127 [==============================] - 2s 305us/step - loss: 0.6854 - accuracy: 0.5389 - val_loss: 0.7165 - val_accuracy: 0.5140\n",
      "Epoch 60/100\n",
      "5127/5127 [==============================] - 2s 305us/step - loss: 0.6847 - accuracy: 0.5383 - val_loss: 0.7215 - val_accuracy: 0.4719\n",
      "Epoch 61/100\n",
      "5127/5127 [==============================] - 2s 301us/step - loss: 0.6842 - accuracy: 0.5413 - val_loss: 0.7230 - val_accuracy: 0.4947\n",
      "Epoch 62/100\n",
      "5127/5127 [==============================] - 2s 304us/step - loss: 0.6838 - accuracy: 0.5434 - val_loss: 0.7278 - val_accuracy: 0.5386\n",
      "Epoch 63/100\n",
      "5127/5127 [==============================] - 2s 310us/step - loss: 0.6833 - accuracy: 0.5450 - val_loss: 0.7314 - val_accuracy: 0.5053\n",
      "Epoch 64/100\n",
      "5127/5127 [==============================] - 2s 308us/step - loss: 0.6843 - accuracy: 0.5395 - val_loss: 0.7273 - val_accuracy: 0.5246\n",
      "Epoch 65/100\n",
      "5127/5127 [==============================] - 2s 307us/step - loss: 0.6850 - accuracy: 0.5442 - val_loss: 0.7216 - val_accuracy: 0.5123\n",
      "Epoch 66/100\n",
      "5127/5127 [==============================] - 2s 309us/step - loss: 0.6840 - accuracy: 0.5354 - val_loss: 0.7247 - val_accuracy: 0.5246\n",
      "Epoch 67/100\n",
      "5127/5127 [==============================] - 2s 310us/step - loss: 0.6832 - accuracy: 0.5424 - val_loss: 0.7324 - val_accuracy: 0.5351\n",
      "Epoch 68/100\n",
      "5127/5127 [==============================] - 2s 300us/step - loss: 0.6844 - accuracy: 0.5407 - val_loss: 0.7282 - val_accuracy: 0.5351\n",
      "Epoch 69/100\n",
      "5127/5127 [==============================] - 2s 306us/step - loss: 0.6824 - accuracy: 0.5510 - val_loss: 0.7329 - val_accuracy: 0.4632\n",
      "Epoch 70/100\n",
      "5127/5127 [==============================] - 2s 307us/step - loss: 0.6839 - accuracy: 0.5362 - val_loss: 0.7299 - val_accuracy: 0.5298\n",
      "Epoch 71/100\n",
      "5127/5127 [==============================] - 2s 299us/step - loss: 0.6827 - accuracy: 0.5453 - val_loss: 0.7363 - val_accuracy: 0.4684\n",
      "Epoch 72/100\n",
      "5127/5127 [==============================] - 2s 301us/step - loss: 0.6832 - accuracy: 0.5391 - val_loss: 0.7357 - val_accuracy: 0.5281\n",
      "Epoch 73/100\n",
      "5127/5127 [==============================] - 2s 306us/step - loss: 0.6827 - accuracy: 0.5455 - val_loss: 0.7353 - val_accuracy: 0.5298\n",
      "Epoch 74/100\n",
      "5127/5127 [==============================] - 2s 307us/step - loss: 0.6822 - accuracy: 0.5452 - val_loss: 0.7329 - val_accuracy: 0.5246\n",
      "Epoch 75/100\n",
      "5127/5127 [==============================] - 2s 310us/step - loss: 0.6819 - accuracy: 0.5434 - val_loss: 0.7333 - val_accuracy: 0.5316\n",
      "Epoch 76/100\n",
      "5127/5127 [==============================] - 2s 311us/step - loss: 0.6820 - accuracy: 0.5492 - val_loss: 0.7312 - val_accuracy: 0.4702\n",
      "Epoch 77/100\n",
      "5127/5127 [==============================] - 2s 310us/step - loss: 0.6803 - accuracy: 0.5500 - val_loss: 0.7406 - val_accuracy: 0.4877\n",
      "Epoch 78/100\n",
      "5127/5127 [==============================] - 2s 307us/step - loss: 0.6807 - accuracy: 0.5469 - val_loss: 0.7358 - val_accuracy: 0.5316\n",
      "Epoch 79/100\n",
      "5127/5127 [==============================] - 2s 306us/step - loss: 0.6814 - accuracy: 0.5442 - val_loss: 0.7344 - val_accuracy: 0.5386\n",
      "Epoch 80/100\n",
      "5127/5127 [==============================] - 2s 310us/step - loss: 0.6810 - accuracy: 0.5475 - val_loss: 0.7338 - val_accuracy: 0.4596\n",
      "Epoch 81/100\n",
      "5127/5127 [==============================] - 2s 307us/step - loss: 0.6810 - accuracy: 0.5446 - val_loss: 0.7454 - val_accuracy: 0.5193\n",
      "Epoch 82/100\n",
      "5127/5127 [==============================] - 2s 306us/step - loss: 0.6806 - accuracy: 0.5405 - val_loss: 0.7458 - val_accuracy: 0.5105\n",
      "Epoch 83/100\n",
      "5127/5127 [==============================] - 2s 300us/step - loss: 0.6793 - accuracy: 0.5522 - val_loss: 0.7412 - val_accuracy: 0.5140\n",
      "Epoch 84/100\n",
      "5127/5127 [==============================] - 2s 307us/step - loss: 0.6807 - accuracy: 0.5450 - val_loss: 0.7415 - val_accuracy: 0.5018\n",
      "Epoch 85/100\n",
      "5127/5127 [==============================] - 2s 308us/step - loss: 0.6798 - accuracy: 0.5477 - val_loss: 0.7376 - val_accuracy: 0.4842\n",
      "Epoch 86/100\n",
      "5127/5127 [==============================] - 2s 308us/step - loss: 0.6787 - accuracy: 0.5516 - val_loss: 0.7496 - val_accuracy: 0.4684\n",
      "Epoch 87/100\n",
      "5127/5127 [==============================] - 2s 309us/step - loss: 0.6797 - accuracy: 0.5502 - val_loss: 0.7519 - val_accuracy: 0.5105\n",
      "Epoch 88/100\n",
      "5127/5127 [==============================] - 2s 308us/step - loss: 0.6814 - accuracy: 0.5520 - val_loss: 0.7455 - val_accuracy: 0.5246\n",
      "Epoch 89/100\n",
      "5127/5127 [==============================] - 2s 306us/step - loss: 0.6800 - accuracy: 0.5459 - val_loss: 0.7460 - val_accuracy: 0.5211\n",
      "Epoch 90/100\n",
      "5127/5127 [==============================] - 2s 298us/step - loss: 0.6787 - accuracy: 0.5557 - val_loss: 0.7451 - val_accuracy: 0.4702\n",
      "Epoch 91/100\n",
      "5127/5127 [==============================] - 2s 313us/step - loss: 0.6754 - accuracy: 0.5576 - val_loss: 0.7447 - val_accuracy: 0.5228\n",
      "Epoch 92/100\n",
      "5127/5127 [==============================] - 2s 306us/step - loss: 0.6762 - accuracy: 0.5553 - val_loss: 0.7409 - val_accuracy: 0.4772\n",
      "Epoch 93/100\n",
      "5127/5127 [==============================] - 2s 305us/step - loss: 0.6751 - accuracy: 0.5539 - val_loss: 0.7450 - val_accuracy: 0.4719\n",
      "Epoch 94/100\n",
      "5127/5127 [==============================] - 2s 300us/step - loss: 0.6743 - accuracy: 0.5602 - val_loss: 0.7441 - val_accuracy: 0.5053\n",
      "Epoch 95/100\n",
      "5127/5127 [==============================] - 2s 309us/step - loss: 0.6768 - accuracy: 0.5592 - val_loss: 0.7509 - val_accuracy: 0.4737\n",
      "Epoch 96/100\n",
      "5127/5127 [==============================] - 2s 307us/step - loss: 0.6770 - accuracy: 0.5555 - val_loss: 0.7416 - val_accuracy: 0.5070\n",
      "Epoch 97/100\n",
      "5127/5127 [==============================] - 2s 308us/step - loss: 0.6724 - accuracy: 0.5572 - val_loss: 0.7395 - val_accuracy: 0.4614\n",
      "Epoch 98/100\n",
      "5127/5127 [==============================] - 2s 300us/step - loss: 0.6723 - accuracy: 0.5645 - val_loss: 0.7541 - val_accuracy: 0.4649\n",
      "Epoch 99/100\n",
      "5127/5127 [==============================] - 2s 298us/step - loss: 0.6729 - accuracy: 0.5586 - val_loss: 0.7526 - val_accuracy: 0.5140\n",
      "Epoch 100/100\n",
      "5127/5127 [==============================] - 2s 302us/step - loss: 0.6725 - accuracy: 0.5668 - val_loss: 0.7483 - val_accuracy: 0.4772\n"
     ]
    }
   ],
   "source": [
    "### CREATE KerasRegressor MODEL USING PREVIOUS FUNCTION ###\n",
    "nn_classifier = KerasClassifier(build_fn=create_simple_nn,verbose=1,\n",
    "                              optimizer=keras.optimizers.Adamax(learning_rate=0.001, beta_1=0.9, beta_2=0.999),\n",
    "                              loss=keras.losses.BinaryCrossentropy(from_logits=False),\n",
    "                              units=1000,\n",
    "                              use_bias=True,\n",
    "                              activation='tanh',\n",
    "                              initializer = keras.initializers.glorot_normal(seed=None),\n",
    "                              regularizer = None,\n",
    "                              #recurrent_activation='sigmoid',\n",
    "                              #kernel_initializer = keras.initializers.glorot_uniform(seed=980),\n",
    "                              #recurrent_initializer = 'orthogonal',\n",
    "                              #bias_initializer = keras.initializers.glorot_uniform(seed=988),\n",
    "                              #kernel_regularizer = None,\n",
    "                              #recurrent_regularizer = None,\n",
    "                              #bias_regularizer = None,\n",
    "                              #activity_regularizer = None,\n",
    "                              #dropout = 0.0,\n",
    "                              #recurrent_dropout = 0.0\n",
    "                              )\n",
    "\n",
    "### FIT MODEL TO TRAINING DATA ###\n",
    "history_nn=nn_classifier.fit(X_train_pca,Y_train,epochs=100,shuffle=True,validation_split=0.1)"
   ]
  },
  {
   "cell_type": "code",
   "execution_count": null,
   "metadata": {
    "colab": {
     "base_uri": "https://localhost:8080/",
     "height": 295
    },
    "colab_type": "code",
    "executionInfo": {
     "elapsed": 618,
     "status": "ok",
     "timestamp": 1592419467733,
     "user": {
      "displayName": "Sumeet Zankar",
      "photoUrl": "https://lh3.googleusercontent.com/a-/AOh14Gj5a7e6XvDdwJG1sExY_Tc4AaxmktFNowPEG-kN8Q=s64",
      "userId": "09712304352027471477"
     },
     "user_tz": -120
    },
    "id": "CDue36kvLVoy",
    "outputId": "25cb52d1-e5cf-49a9-8fd6-d7ea1c5f7a16"
   },
   "outputs": [
    {
     "data": {
      "image/png": "[encoded data removed]",
      "text/plain": [
       "<Figure size 432x288 with 1 Axes>"
      ]
     },
     "metadata": {
      "needs_background": "light",
      "tags": []
     },
     "output_type": "display_data"
    }
   ],
   "source": [
    "### PLOT TRAINING AND VALIDATION LOSS AS FUNCTION OF NO. OF EPOCHS###\n",
    "plt.plot(history_nn.history['accuracy'])\n",
    "plt.plot(history_nn.history['val_accuracy'])\n",
    "plt.title('Model Performance')\n",
    "plt.ylabel('Accuracy')\n",
    "plt.xlabel('No. of Epochs')\n",
    "plt.legend(['Train','Test'],loc='upper left')\n",
    "plt.show()"
   ]
  },
  {
   "cell_type": "code",
   "execution_count": null,
   "metadata": {
    "colab": {
     "base_uri": "https://localhost:8080/",
     "height": 34
    },
    "colab_type": "code",
    "executionInfo": {
     "elapsed": 549,
     "status": "ok",
     "timestamp": 1592414550745,
     "user": {
      "displayName": "Sumeet Zankar",
      "photoUrl": "https://lh3.googleusercontent.com/a-/AOh14Gj5a7e6XvDdwJG1sExY_Tc4AaxmktFNowPEG-kN8Q=s64",
      "userId": "09712304352027471477"
     },
     "user_tz": -120
    },
    "id": "EZXrnsUfTGz-",
    "outputId": "87b76728-4dd2-4c56-c0bf-2c3a81020242"
   },
   "outputs": [
    {
     "name": "stdout",
     "output_type": "stream",
     "text": [
      "300/300 [==============================] - 0s 83us/step\n"
     ]
    }
   ],
   "source": [
    "### PLOT OF MODEL PREDICTION VS ACTUAL VALUES ###\n",
    "### PLOT OF TUNED MODEL PREDICTION VS ACTUAL VALUES ###\n",
    "predicted_labels = nn_classifier.predict(X_test_pca)\n",
    "actual_labels = Y_test\n",
    "\n"
   ]
  },
  {
   "cell_type": "code",
   "execution_count": null,
   "metadata": {
    "colab": {
     "base_uri": "https://localhost:8080/",
     "height": 34
    },
    "colab_type": "code",
    "executionInfo": {
     "elapsed": 554,
     "status": "ok",
     "timestamp": 1592414569974,
     "user": {
      "displayName": "Sumeet Zankar",
      "photoUrl": "https://lh3.googleusercontent.com/a-/AOh14Gj5a7e6XvDdwJG1sExY_Tc4AaxmktFNowPEG-kN8Q=s64",
      "userId": "09712304352027471477"
     },
     "user_tz": -120
    },
    "id": "ca3cSRwbTcyL",
    "outputId": "0ea949ef-0c97-4ca5-a012-b38dd910a969"
   },
   "outputs": [
    {
     "data": {
      "text/plain": [
       "(1, 1)"
      ]
     },
     "execution_count": 60,
     "metadata": {
      "tags": []
     },
     "output_type": "execute_result"
    }
   ],
   "source": [
    "predicted_labels[0], actual_labels[0]"
   ]
  },
  {
   "cell_type": "code",
   "execution_count": null,
   "metadata": {
    "colab": {
     "base_uri": "https://localhost:8080/",
     "height": 67
    },
    "colab_type": "code",
    "executionInfo": {
     "elapsed": 5317,
     "status": "ok",
     "timestamp": 1592412408709,
     "user": {
      "displayName": "Sumeet Zankar",
      "photoUrl": "https://lh3.googleusercontent.com/a-/AOh14Gj5a7e6XvDdwJG1sExY_Tc4AaxmktFNowPEG-kN8Q=s64",
      "userId": "09712304352027471477"
     },
     "user_tz": -120
    },
    "id": "jL84Uo6WV6Ly",
    "outputId": "a3787f01-fcb3-41ac-8bc2-5c7a17e0ffc0"
   },
   "outputs": [
    {
     "name": "stdout",
     "output_type": "stream",
     "text": [
      "Fitting 2 folds for each of 1 candidates, totalling 2 fits\n"
     ]
    },
    {
     "name": "stderr",
     "output_type": "stream",
     "text": [
      "[Parallel(n_jobs=-1)]: Using backend LokyBackend with 4 concurrent workers.\n",
      "[Parallel(n_jobs=-1)]: Done   2 out of   2 | elapsed:    3.9s finished\n"
     ]
    }
   ],
   "source": [
    "### HYPER-PARAMETER TUNING ###\n",
    "\n",
    "\n",
    "### CREATE PARAMETER GRID FOR HYPERPARAMETER TUNING ###\n",
    "param_grid = {\n",
    "    'optimizer':['adam'#,\n",
    "                     #'adamax',\n",
    "                     #'nadam',\n",
    "                     #'adadelta',\n",
    "                     #'adagrad',\n",
    "                     #'sgd'\n",
    "                    ],\n",
    "    'activation':[None#,\n",
    "                  #'tanh',\n",
    "                  #'sigmoid'\n",
    "                  ],\n",
    "    'use_bias':[True#,\n",
    "                #False\n",
    "                ],\n",
    "    'initializer':[#'zeros',\n",
    "                   #'normal',\n",
    "                   #'uniform',\n",
    "                   'glorot_uniform'\n",
    "                   ],\n",
    "    'regularizer':[None#,\n",
    "                   #keras.regularizers.l1(0.001),\n",
    "                   #keras.regularizers.l1(0.01)\n",
    "                   ],\n",
    "    'units':[50#,\n",
    "             #100,\n",
    "             #500\n",
    "             ]\n",
    "}\n",
    "\n",
    "### CREATE GridSearchCV Object ###\n",
    "nn_grid = GridSearchCV(estimator=nn_classifier,\n",
    "                  param_grid=param_grid,\n",
    "                  scoring=None,\n",
    "                  n_jobs=-1,\n",
    "                  cv=2,\n",
    "                  refit=True,\n",
    "                 verbose=1\n",
    "                 )\n",
    "\n",
    "nn_grid = nn_grid.fit(X_train_pca,Y_train)"
   ]
  },
  {
   "cell_type": "code",
   "execution_count": null,
   "metadata": {
    "colab": {},
    "colab_type": "code",
    "id": "8jdeRwKFWJl5"
   },
   "outputs": [],
   "source": []
  },
  {
   "cell_type": "code",
   "execution_count": null,
   "metadata": {
    "colab": {},
    "colab_type": "code",
    "id": "kVqpxD7M324V"
   },
   "outputs": [],
   "source": [
    "### CREATE CUSTOM LOSS FUCNTION(RMSE) ###\n",
    "### FOR USE AS EVALUATION METRIC FOR ALL REGRESSION TASKS ###\n",
    "def root_mean_squared_error(y_true, y_pred):\n",
    "        return K.sqrt(K.mean(K.square(y_pred - y_true))) \n",
    "\n",
    "### MODEL 1 - SIMPLE DEEP NEURAL NET ### \n",
    "\n",
    "### METHOD FOR CREATING NEURAL NET ###\n",
    "def create_simple_nn(input_shape=(np.shape(X_train_pca)[1],),loss=root_mean_squared_error,\n",
    "              optimizer=keras.optimizers.Adam(learning_rate=0.01,beta_1=0.9,beta_2=0.999,amsgrad=False),\n",
    "              units = 100,\n",
    "              activation=None,\n",
    "              use_bias=True,\n",
    "              initializer = keras.initializers.TruncatedNormal(mean=0.0, stddev=0.075,seed=777),\n",
    "              regularizer=None,\n",
    "              batch_size=32,\n",
    "              epochs=1,\n",
    "              shuffle=True):\n",
    "    \n",
    "    simple_nn = Sequential()\n",
    "\n",
    "    #for layer in range(np.shape(X_train_pca)[1]-1):\n",
    "    #  simple_nn.add(Dense(units=np.shape(X_train_pca)[1]-layer,activation=activation,use_bias=use_bias,kernel_initializer=initializer,bias_initializer=initializer,\n",
    "    #                          kernel_regularizer=regularizer,bias_regularizer=regularizer,activity_regularizer=regularizer,\n",
    "    #                          kernel_constraint=None,bias_constraint=None,input_shape=input_shape))\n",
    "\n",
    "\n",
    "    simple_nn.add(Dense(units=units,activation=activation,use_bias=use_bias,kernel_initializer=initializer,bias_initializer=initializer,\n",
    "                              kernel_regularizer=regularizer,bias_regularizer=regularizer,activity_regularizer=regularizer,\n",
    "                              kernel_constraint=None,bias_constraint=None,input_shape=input_shape))\n",
    "\n",
    "    simple_nn.add(Dense(units=units//2,activation=activation,use_bias=use_bias,kernel_initializer=initializer,bias_initializer=initializer,\n",
    "                              kernel_regularizer=regularizer,bias_regularizer=regularizer,activity_regularizer=regularizer,\n",
    "                              kernel_constraint=None,bias_constraint=None))\n",
    "\n",
    "    simple_nn.add(Dense(units=units//4,activation=activation,use_bias=use_bias,kernel_initializer=initializer,bias_initializer=initializer,\n",
    "                              kernel_regularizer=regularizer,bias_regularizer=regularizer,activity_regularizer=regularizer,\n",
    "                              kernel_constraint=None,bias_constraint=None))\n",
    "\n",
    "    simple_nn.add(Dense(units=units//8,activation=activation,use_bias=use_bias,kernel_initializer=initializer,bias_initializer=initializer,\n",
    "                              kernel_regularizer=regularizer,bias_regularizer=regularizer,activity_regularizer=regularizer,\n",
    "                              kernel_constraint=None,bias_constraint=None))\n",
    "\n",
    "    simple_nn.add(Dense(units=units//16,activation=activation,use_bias=use_bias,kernel_initializer=initializer,bias_initializer=initializer,\n",
    "                              kernel_regularizer=regularizer,bias_regularizer=regularizer,activity_regularizer=regularizer,\n",
    "                              kernel_constraint=None,bias_constraint=None))\n",
    "\n",
    "    \n",
    "    simple_nn.add(Dense(units=1,activation=activation ,use_bias=use_bias,kernel_initializer=initializer,bias_initializer=initializer,\n",
    "                              kernel_regularizer=regularizer,bias_regularizer=regularizer,activity_regularizer=regularizer,\n",
    "                              kernel_constraint=None,bias_constraint=None))\n",
    "\n",
    "    simple_nn.compile(loss=loss,optimizer=optimizer)\n",
    "    \n",
    "    #history = simple_nn.fit(x=x_train,y=y_train,batch_size=params['batch_size'],epochs=params['epochs'],verbose=0,callbacks=None,shuffle=True)\n",
    "\n",
    "    return simple_nn\n"
   ]
  },
  {
   "cell_type": "code",
   "execution_count": null,
   "metadata": {
    "colab": {},
    "colab_type": "code",
    "id": "ehgCmyxN33PI"
   },
   "outputs": [],
   "source": []
  },
  {
   "cell_type": "code",
   "execution_count": null,
   "metadata": {
    "colab": {},
    "colab_type": "code",
    "id": "9tW3K0Zjy1wZ"
   },
   "outputs": [],
   "source": []
  },
  {
   "cell_type": "code",
   "execution_count": null,
   "metadata": {
    "colab": {
     "base_uri": "https://localhost:8080/",
     "height": 171
    },
    "colab_type": "code",
    "executionInfo": {
     "elapsed": 4367972,
     "status": "ok",
     "timestamp": 1588514604012,
     "user": {
      "displayName": "Sumeet Zankar",
      "photoUrl": "https://lh3.googleusercontent.com/a-/AOh14Gj5a7e6XvDdwJG1sExY_Tc4AaxmktFNowPEG-kN8Q=s64",
      "userId": "09712304352027471477"
     },
     "user_tz": -120
    },
    "id": "0BVYaMaCwxSO",
    "outputId": "7a1e2da2-9874-4e2d-ff62-0e6e7bcfb679"
   },
   "outputs": [
    {
     "name": "stdout",
     "output_type": "stream",
     "text": [
      "Fitting 2 folds for each of 1296 candidates, totalling 2592 fits\n"
     ]
    },
    {
     "name": "stderr",
     "output_type": "stream",
     "text": [
      "[Parallel(n_jobs=-1)]: Using backend LokyBackend with 4 concurrent workers.\n",
      "[Parallel(n_jobs=-1)]: Done  42 tasks      | elapsed:   24.1s\n",
      "[Parallel(n_jobs=-1)]: Done 192 tasks      | elapsed:  1.6min\n",
      "/usr/local/lib/python3.6/dist-packages/joblib/externals/loky/process_executor.py:691: UserWarning: A worker stopped while some jobs were given to the executor. This can be caused by a too short worker timeout or by a memory leak.\n",
      "  \"timeout or by a memory leak.\", UserWarning\n",
      "[Parallel(n_jobs=-1)]: Done 442 tasks      | elapsed:  3.8min\n",
      "[Parallel(n_jobs=-1)]: Done 792 tasks      | elapsed:  7.0min\n"
     ]
    }
   ],
   "source": [
    "### HYPER-PARAMETER TUNING ###\n",
    "\n",
    "### CREATE KerasRegressor Object ###\n",
    "nn_regressor = KerasRegressor(build_fn=create_simple_nn,verbose=0)\n",
    "\n",
    "### CREATE PARAMETER GRID FOR HYPERPARAMETER TUNING ###\n",
    "param_grid = {\n",
    "    'optimizer':['adam',\n",
    "                     'adamax',\n",
    "                     'nadam',\n",
    "                     'adadelta',\n",
    "                     'adagrad',\n",
    "                     'sgd'\n",
    "                    ],\n",
    "    'activation':[None,'tanh','sigmoid'],\n",
    "    'use_bias':[True,False],\n",
    "    'initializer':['zeros','normal','uniform','glorot_uniform'],\n",
    "    'regularizer':[None,keras.regularizers.l1(0.001),keras.regularizers.l1(0.01)],\n",
    "    'units':[50,100,500]\n",
    "}\n",
    "\n",
    "### CREATE GridSearchCV Object ###\n",
    "nn_grid = GridSearchCV(estimator=nn_regressor,\n",
    "                  param_grid=param_grid,\n",
    "                  scoring=None,\n",
    "                  n_jobs=-1,\n",
    "                  cv=2,\n",
    "                  refit=True,\n",
    "                 verbose=1\n",
    "                 )\n",
    "\n",
    "nn_grid = nn_grid.fit(X_train_pca,Y_train_std)"
   ]
  },
  {
   "cell_type": "code",
   "execution_count": null,
   "metadata": {
    "colab": {},
    "colab_type": "code",
    "id": "2hcpSMIlwyB7"
   },
   "outputs": [],
   "source": []
  },
  {
   "cell_type": "code",
   "execution_count": null,
   "metadata": {
    "colab": {
     "base_uri": "https://localhost:8080/",
     "height": 168
    },
    "colab_type": "code",
    "executionInfo": {
     "elapsed": 513,
     "status": "ok",
     "timestamp": 1589939947411,
     "user": {
      "displayName": "Sumeet Zankar",
      "photoUrl": "https://lh3.googleusercontent.com/a-/AOh14Gj5a7e6XvDdwJG1sExY_Tc4AaxmktFNowPEG-kN8Q=s64",
      "userId": "09712304352027471477"
     },
     "user_tz": -120
    },
    "id": "foFqT8TmBgbB",
    "outputId": "a14e70cf-f4ec-49e6-d3e1-14502fddfff5"
   },
   "outputs": [
    {
     "data": {
      "text/plain": [
       "(<keras.wrappers.scikit_learn.KerasRegressor at 0x7fb417a4ff98>,\n",
       " 218,\n",
       " {'activation': None,\n",
       "  'initializer': 'uniform',\n",
       "  'optimizer': 'adam',\n",
       "  'regularizer': None,\n",
       "  'units': 100,\n",
       "  'use_bias': True},\n",
       " -0.05628408580845446)"
      ]
     },
     "execution_count": 18,
     "metadata": {
      "tags": []
     },
     "output_type": "execute_result"
    }
   ],
   "source": [
    "gs.best_estimator_,gs.best_index_,gs.best_params_,gs.best_score_"
   ]
  },
  {
   "cell_type": "code",
   "execution_count": null,
   "metadata": {
    "colab": {},
    "colab_type": "code",
    "id": "8DbCY3fnbzCN"
   },
   "outputs": [],
   "source": []
  },
  {
   "cell_type": "code",
   "execution_count": null,
   "metadata": {
    "colab": {
     "base_uri": "https://localhost:8080/",
     "height": 295
    },
    "colab_type": "code",
    "executionInfo": {
     "elapsed": 651,
     "status": "ok",
     "timestamp": 1589940045474,
     "user": {
      "displayName": "Sumeet Zankar",
      "photoUrl": "https://lh3.googleusercontent.com/a-/AOh14Gj5a7e6XvDdwJG1sExY_Tc4AaxmktFNowPEG-kN8Q=s64",
      "userId": "09712304352027471477"
     },
     "user_tz": -120
    },
    "id": "sAXkIGKxBX09",
    "outputId": "2164a1ed-8815-42af-a211-28bce8da5e15"
   },
   "outputs": [
    {
     "data": {
      "image/png": "[encoded data removed]",
      "text/plain": [
       "<Figure size 432x288 with 1 Axes>"
      ]
     },
     "metadata": {
      "needs_background": "light",
      "tags": []
     },
     "output_type": "display_data"
    }
   ],
   "source": [
    "### PLOT OF MODEL PREDICTION VS ACTUAL VALUES ###\n",
    "### PLOT OF TUNED MODEL PREDICTION VS ACTUAL VALUES ###\n",
    "predicted_labels = target_scaler.inverse_transform(gs.predict(X_test_pca))\n",
    "actual_labels = Y_test\n",
    "days = range(len(X_test))\n",
    "plt.plot(predicted_labels)\n",
    "plt.plot(actual_labels)\n",
    "plt.title('Tuned NN Model Prediction')\n",
    "plt.ylabel('BTC Price (In USD)')\n",
    "plt.xlabel('Time Periods')\n",
    "plt.legend(['Predicted','Actual'],loc='best')\n",
    "plt.show()"
   ]
  },
  {
   "cell_type": "code",
   "execution_count": null,
   "metadata": {
    "colab": {},
    "colab_type": "code",
    "id": "ICcJJdtTPJEB"
   },
   "outputs": [],
   "source": []
  },
  {
   "cell_type": "code",
   "execution_count": null,
   "metadata": {
    "colab": {},
    "colab_type": "code",
    "id": "WfTthznqOiAz"
   },
   "outputs": [],
   "source": []
  },
  {
   "cell_type": "code",
   "execution_count": null,
   "metadata": {
    "colab": {},
    "colab_type": "code",
    "id": "JezXKz0oA-sm"
   },
   "outputs": [],
   "source": []
  },
  {
   "cell_type": "code",
   "execution_count": null,
   "metadata": {
    "colab": {
     "base_uri": "https://localhost:8080/",
     "height": 34
    },
    "colab_type": "code",
    "executionInfo": {
     "elapsed": 665,
     "status": "ok",
     "timestamp": 1589940053833,
     "user": {
      "displayName": "Sumeet Zankar",
      "photoUrl": "https://lh3.googleusercontent.com/a-/AOh14Gj5a7e6XvDdwJG1sExY_Tc4AaxmktFNowPEG-kN8Q=s64",
      "userId": "09712304352027471477"
     },
     "user_tz": -120
    },
    "id": "2mltmgvDjnpu",
    "outputId": "34f210e7-e96b-47b4-e164-24ff08ee8e2c"
   },
   "outputs": [
    {
     "data": {
      "text/plain": [
       "((5527, 6, 5), (5527, 1), (286, 6, 5), (286, 1))"
      ]
     },
     "execution_count": 21,
     "metadata": {
      "tags": []
     },
     "output_type": "execute_result"
    }
   ],
   "source": [
    "### CONVERT TRAINING AND TEST DATA INTO TIME-SERIES DATA ###\n",
    "### NECESSARY FOR TRAINING RECURRENT NEURAL NETWORKS ###\n",
    "\n",
    "x_train = list()\n",
    "x_test = list()\n",
    "lookback = 6\n",
    "\n",
    "\n",
    "for j in range(np.shape(X_train_pca)[0]-lookback):\n",
    "  x_train.append(list())\n",
    "  for i in range(lookback):\n",
    "    x_train[j].append(X_train_pca[i+j])\n",
    "\n",
    "\n",
    "for j in range(np.shape(X_test_pca)[0]-lookback):\n",
    "  x_test.append(list())\n",
    "  for i in range(lookback):\n",
    "    x_test[j].append(X_test_pca[i+j])\n",
    "\n",
    "\n",
    "x_train, x_test = np.array(x_train), np.array(x_test)\n",
    "#x_train, x_test = np.reshape(x_train,(np.shape(x_train)[0],np.shape(x_train)[1],1)),np.reshape(x_test,(np.shape(x_test)[0],np.shape(x_test)[1],1))\n",
    "\n",
    "y_train, y_test = np.array(Y_train_std)[lookback-1:-1], np.array(Y_test_std)[lookback-1:-1]\n",
    "\n",
    "np.shape(x_train), np.shape(y_train), np.shape(x_test), np.shape(y_test)\n"
   ]
  },
  {
   "cell_type": "code",
   "execution_count": null,
   "metadata": {
    "colab": {},
    "colab_type": "code",
    "id": "fWvfBtZ-212N"
   },
   "outputs": [],
   "source": []
  },
  {
   "cell_type": "code",
   "execution_count": null,
   "metadata": {
    "colab": {},
    "colab_type": "code",
    "id": "x2yw51ZWP10i"
   },
   "outputs": [],
   "source": []
  },
  {
   "cell_type": "code",
   "execution_count": null,
   "metadata": {
    "colab": {},
    "colab_type": "code",
    "id": "utz_4vLjPJA4"
   },
   "outputs": [],
   "source": [
    "### MODEL 2 - LSTM RECURRENT NEURAL NETWORK ###\n",
    "\n",
    "### METHOD TO CREATE LSTM RNN ###\n",
    "def create_lstm_nn(input_shape = np.shape(x_train)[1:],units=100,loss=root_mean_squared_error,optimizer='adam',activation=None,recurrent_activation=None,use_bias=True,\n",
    "                    kernel_initializer='zeros',recurrent_initializer='zeros',bias_initializer='zeros',\n",
    "                    kernel_regularizer=None,recurrent_regularizer=None,bias_regularizer=None,activity_regularizer=None,\n",
    "                          kernel_constraint=None,bias_constraint=None,recurrent_constraint=None,dropout=0.0,recurrent_dropout=0.0,unit_forget_bias=True):\n",
    "  lstm_nn = Sequential()\n",
    "\n",
    "  lstm_nn.add(LSTM(units = units, activation=activation, recurrent_activation=recurrent_activation,use_bias=use_bias,\n",
    "              kernel_initializer=kernel_initializer, recurrent_initializer=recurrent_initializer, bias_initializer=bias_initializer,\n",
    "              unit_forget_bias=unit_forget_bias,kernel_regularizer=kernel_regularizer, recurrent_regularizer=recurrent_regularizer, bias_regularizer=bias_regularizer, activity_regularizer=activity_regularizer,\n",
    "              kernel_constraint=kernel_constraint,recurrent_constraint=recurrent_constraint, bias_constraint=bias_constraint, dropout=dropout, recurrent_dropout=recurrent_dropout,\n",
    "              implementation=2,return_sequences=True, return_state=False, go_backwards=False, \n",
    "                  stateful=False, unroll=False,input_shape=input_shape))\n",
    "\n",
    "  lstm_nn.add(LSTM(units = units//2, activation=activation, recurrent_activation=recurrent_activation,use_bias=use_bias,\n",
    "              kernel_initializer=kernel_initializer, recurrent_initializer=recurrent_initializer, bias_initializer=bias_initializer,\n",
    "              unit_forget_bias=unit_forget_bias,kernel_regularizer=kernel_regularizer, recurrent_regularizer=recurrent_regularizer, bias_regularizer=bias_regularizer, activity_regularizer=activity_regularizer,\n",
    "              kernel_constraint=kernel_constraint,recurrent_constraint=recurrent_constraint, bias_constraint=bias_constraint, dropout=dropout, recurrent_dropout=recurrent_dropout,\n",
    "              implementation=2,return_sequences=True, return_state=False, go_backwards=False, \n",
    "                  stateful=False, unroll=False))\n",
    "  \n",
    "  lstm_nn.add(LSTM(units = units//4, activation=activation, recurrent_activation=recurrent_activation,use_bias=use_bias,\n",
    "              kernel_initializer=kernel_initializer, recurrent_initializer=recurrent_initializer, bias_initializer=bias_initializer,\n",
    "              unit_forget_bias=unit_forget_bias,kernel_regularizer=kernel_regularizer, recurrent_regularizer=recurrent_regularizer, bias_regularizer=bias_regularizer, activity_regularizer=activity_regularizer,\n",
    "              kernel_constraint=kernel_constraint,recurrent_constraint=recurrent_constraint, bias_constraint=bias_constraint, dropout=dropout, recurrent_dropout=recurrent_dropout,\n",
    "              implementation=2,return_sequences=False, return_state=False, go_backwards=False, \n",
    "                  stateful=False, unroll=False))\n",
    "\n",
    "  lstm_nn.add(Dense(units=units//8,activation=activation,use_bias=use_bias,kernel_initializer=kernel_initializer,bias_initializer=bias_initializer,\n",
    "                          kernel_regularizer=kernel_regularizer,bias_regularizer=bias_regularizer,activity_regularizer=activity_regularizer,\n",
    "                          kernel_constraint=kernel_constraint,bias_constraint=bias_constraint))\n",
    "\n",
    "  lstm_nn.add(Dense(units=1,activation=activation,use_bias=use_bias,kernel_initializer=kernel_initializer,bias_initializer=bias_initializer,\n",
    "                          kernel_regularizer=kernel_regularizer,bias_regularizer=bias_regularizer,activity_regularizer=activity_regularizer,\n",
    "                          kernel_constraint=kernel_constraint,bias_constraint=bias_constraint))\n",
    "\n",
    "  lstm_nn.compile(loss=loss,optimizer=optimizer)\n",
    "\n",
    "  return lstm_nn\n",
    "\n"
   ]
  },
  {
   "cell_type": "code",
   "execution_count": null,
   "metadata": {
    "colab": {},
    "colab_type": "code",
    "id": "H-o08Tt8BIyL"
   },
   "outputs": [],
   "source": []
  },
  {
   "cell_type": "code",
   "execution_count": null,
   "metadata": {
    "colab": {
     "base_uri": "https://localhost:8080/",
     "height": 229
    },
    "colab_type": "code",
    "executionInfo": {
     "elapsed": 1392,
     "status": "error",
     "timestamp": 1589965445625,
     "user": {
      "displayName": "Sumeet Zankar",
      "photoUrl": "https://lh3.googleusercontent.com/a-/AOh14Gj5a7e6XvDdwJG1sExY_Tc4AaxmktFNowPEG-kN8Q=s64",
      "userId": "09712304352027471477"
     },
     "user_tz": -120
    },
    "id": "SaW82wRKhQad",
    "outputId": "447991cd-f48c-43b4-f563-df36e04c103a"
   },
   "outputs": [
    {
     "ename": "NameError",
     "evalue": "ignored",
     "output_type": "error",
     "traceback": [
      "\u001b[0;31m---------------------------------------------------------------------------\u001b[0m",
      "\u001b[0;31mNameError\u001b[0m                                 Traceback (most recent call last)",
      "\u001b[0;32m<ipython-input-2-cf464c52748d>\u001b[0m in \u001b[0;36m<module>\u001b[0;34m()\u001b[0m\n\u001b[1;32m      7\u001b[0m \u001b[0;34m\u001b[0m\u001b[0m\n\u001b[1;32m      8\u001b[0m \u001b[0;31m### CREATE KerasRegressor Object ###\u001b[0m\u001b[0;34m\u001b[0m\u001b[0;34m\u001b[0m\u001b[0;34m\u001b[0m\u001b[0m\n\u001b[0;32m----> 9\u001b[0;31m \u001b[0mlstm_regressor\u001b[0m \u001b[0;34m=\u001b[0m \u001b[0mKerasRegressor\u001b[0m\u001b[0;34m(\u001b[0m\u001b[0mbuild_fn\u001b[0m\u001b[0;34m=\u001b[0m\u001b[0mcreate_lstm_nn\u001b[0m\u001b[0;34m,\u001b[0m\u001b[0mverbose\u001b[0m\u001b[0;34m=\u001b[0m\u001b[0;36m0\u001b[0m\u001b[0;34m)\u001b[0m\u001b[0;34m\u001b[0m\u001b[0;34m\u001b[0m\u001b[0m\n\u001b[0m\u001b[1;32m     10\u001b[0m \u001b[0;34m\u001b[0m\u001b[0m\n\u001b[1;32m     11\u001b[0m \u001b[0;31m### CREATE PARAMETER GRID FOR HYPERPARAMETER TUNING ###\u001b[0m\u001b[0;34m\u001b[0m\u001b[0;34m\u001b[0m\u001b[0;34m\u001b[0m\u001b[0m\n",
      "\u001b[0;31mNameError\u001b[0m: name 'KerasRegressor' is not defined"
     ]
    }
   ],
   "source": [
    "### HYPER-PARAMETER TUNING ###\n",
    "\n",
    "### TUNABLE HYPERPARAMETERS ###\n",
    "### UNITS, OPTIMIZER, ACTIVATION, RECURRENT ACTIVATION, USE_BIAS, INITIALIZER(KERNEL,RECURRENT,BIAS), REGULARIZER(KERNEL,RECURRENT,BIAS),\n",
    "### CONSTRAINTS(KERNEl,RECURRENT,BIAS), DROPOUT, RECURRENT DROPOUT, UNIT_FORGET_BIAS\n",
    "\n",
    "\n",
    "### CREATE KerasRegressor Object ###\n",
    "lstm_regressor = KerasRegressor(build_fn=create_lstm_nn,verbose=0)\n",
    "\n",
    "### CREATE PARAMETER GRID FOR HYPERPARAMETER TUNING ###\n",
    "lstm_param_grid = {\n",
    "    'optimizer':['adam',\n",
    "                     'adamax',\n",
    "                     'nadam',\n",
    "                     'adagrad'\n",
    "                    ],\n",
    "    'activation':[None,'tanh'],\n",
    "    'recurrent_activation': [None,'sigmoid'],\n",
    "    'use_bias':[True,False],\n",
    "    'kernel_initializer':['zeros','glorot_uniform'],\n",
    "    'recurrent_initializer':['orthogonal','glorot_uniform'],\n",
    "    'bias_initializer':['glorot_uniform'],\n",
    "    'kernel_regularizer':[None],\n",
    "    'bias_regularizer':[None],\n",
    "    'recurrent_regularizer':[None],\n",
    "    'dropout':[0.0],\n",
    "    'recurrent_dropout':[0.0],\n",
    "    'unit_forget_bias':[True,False],\n",
    "    'units':[50,500],\n",
    "    'batch_size':[32],\n",
    "    'epochs':[5]\n",
    "}\n",
    "\n",
    "### CREATE GridSearchCV Object ###\n",
    "lstm_grid = GridSearchCV(estimator=lstm_regressor,\n",
    "                  param_grid=lstm_param_grid,\n",
    "                  scoring=None,\n",
    "                  n_jobs=-1,\n",
    "                  cv=2,\n",
    "                  refit=True,\n",
    "                 verbose=1\n",
    "                 )\n",
    "\n",
    "lstm_grid = lstm_grid.fit(x_train,y_train)"
   ]
  },
  {
   "cell_type": "code",
   "execution_count": null,
   "metadata": {
    "colab": {
     "base_uri": "https://localhost:8080/",
     "height": 178
    },
    "colab_type": "code",
    "executionInfo": {
     "elapsed": 1463,
     "status": "error",
     "timestamp": 1589965437652,
     "user": {
      "displayName": "Sumeet Zankar",
      "photoUrl": "https://lh3.googleusercontent.com/a-/AOh14Gj5a7e6XvDdwJG1sExY_Tc4AaxmktFNowPEG-kN8Q=s64",
      "userId": "09712304352027471477"
     },
     "user_tz": -120
    },
    "id": "1PL7KBu2hQ1C",
    "outputId": "3a4a5a4e-5a25-4265-da88-cccdd0471080"
   },
   "outputs": [
    {
     "ename": "NameError",
     "evalue": "ignored",
     "output_type": "error",
     "traceback": [
      "\u001b[0;31m---------------------------------------------------------------------------\u001b[0m",
      "\u001b[0;31mNameError\u001b[0m                                 Traceback (most recent call last)",
      "\u001b[0;32m<ipython-input-1-586d2609d726>\u001b[0m in \u001b[0;36m<module>\u001b[0;34m()\u001b[0m\n\u001b[1;32m      1\u001b[0m \u001b[0;31m### BEST CANDIDATE OBTAINED AFTER GRID SEARCH OVER PARAMETER SEARCH SPACE ###\u001b[0m\u001b[0;34m\u001b[0m\u001b[0;34m\u001b[0m\u001b[0;34m\u001b[0m\u001b[0m\n\u001b[0;32m----> 2\u001b[0;31m \u001b[0mlstm_grid\u001b[0m\u001b[0;34m.\u001b[0m\u001b[0mbest_estimator_\u001b[0m\u001b[0;34m,\u001b[0m\u001b[0mlstm_grid\u001b[0m\u001b[0;34m.\u001b[0m\u001b[0mbest_index_\u001b[0m\u001b[0;34m,\u001b[0m\u001b[0mlstm_grid\u001b[0m\u001b[0;34m.\u001b[0m\u001b[0mbest_params_\u001b[0m\u001b[0;34m,\u001b[0m\u001b[0mlstm_grid\u001b[0m\u001b[0;34m.\u001b[0m\u001b[0mbest_score_\u001b[0m\u001b[0;34m\u001b[0m\u001b[0;34m\u001b[0m\u001b[0m\n\u001b[0m",
      "\u001b[0;31mNameError\u001b[0m: name 'lstm_grid' is not defined"
     ]
    }
   ],
   "source": [
    "### BEST CANDIDATE OBTAINED AFTER GRID SEARCH OVER PARAMETER SEARCH SPACE ###\n",
    "lstm_grid.best_estimator_,lstm_grid.best_index_,lstm_grid.best_params_,lstm_grid.best_score_"
   ]
  },
  {
   "cell_type": "code",
   "execution_count": null,
   "metadata": {
    "colab": {},
    "colab_type": "code",
    "id": "ZxL1B4gMhh-F"
   },
   "outputs": [],
   "source": [
    "### PLOT OF TUNED MODEL PREDICTION VS ACTUAL VALUES ###\n",
    "predicted_labels = target_scaler.inverse_transform(lstm_gs.predict(X_test_pca))\n",
    "actual_labels = Y_test\n",
    "plt.plot(predicted_labels)\n",
    "plt.plot(actual_labels)\n",
    "plt.title('Tuned LSTM Model Prediction')\n",
    "plt.ylabel('BTC Price (In USD)')\n",
    "plt.xlabel('Time Periods')\n",
    "plt.legend(['Predicted','Actual'],loc='best')\n",
    "plt.show()"
   ]
  },
  {
   "cell_type": "code",
   "execution_count": null,
   "metadata": {
    "colab": {},
    "colab_type": "code",
    "id": "imSTsKVnhiB3"
   },
   "outputs": [],
   "source": []
  },
  {
   "cell_type": "code",
   "execution_count": null,
   "metadata": {
    "colab": {},
    "colab_type": "code",
    "id": "IXgMawmOhiG5"
   },
   "outputs": [],
   "source": []
  },
  {
   "cell_type": "code",
   "execution_count": null,
   "metadata": {
    "colab": {},
    "colab_type": "code",
    "id": "3QNsxVSAhiEr"
   },
   "outputs": [],
   "source": []
  },
  {
   "cell_type": "code",
   "execution_count": null,
   "metadata": {
    "colab": {},
    "colab_type": "code",
    "id": "4p5wwnMuhiAh"
   },
   "outputs": [],
   "source": []
  },
  {
   "cell_type": "code",
   "execution_count": null,
   "metadata": {
    "colab": {},
    "colab_type": "code",
    "id": "ioHfUUgYhh7f"
   },
   "outputs": [],
   "source": []
  },
  {
   "cell_type": "code",
   "execution_count": null,
   "metadata": {
    "colab": {},
    "colab_type": "code",
    "id": "4OxHtrLBBIrv"
   },
   "outputs": [],
   "source": [
    "### METHOD TO CREATE GRU NETWORK ###\n",
    "def create_gru_nn(units=500,loss=root_mean_squared_error,optimizer='adam',activation=None,recurrent_activation=None,use_bias=True,\n",
    "                    kernel_initializer='zeros',recurrent_initializer='zeros',bias_initializer='zeros',\n",
    "                    kernel_regularizer=None,recurrent_regularizer=None,bias_regularizer=None,activity_regularizer=None,\n",
    "                          kernel_constraint=None,bias_constraint=None,recurrent_constraint=None,dropout=0.0,recurrent_dropout=0.0):\n",
    "  gru_nn = Sequential()\n",
    "\n",
    "  gru_nn.add(GRU(units = units, activation=activation, recurrent_activation=recurrent_activation,use_bias=use_bias,\n",
    "              kernel_initializer=kernel_initializer, recurrent_initializer=recurrent_initializer, bias_initializer=bias_initializer,\n",
    "              kernel_regularizer=kernel_regularizer, recurrent_regularizer=recurrent_regularizer, bias_regularizer=bias_regularizer, activity_regularizer=activity_regularizer,\n",
    "              kernel_constraint=kernel_constraint,recurrent_constraint=recurrent_constraint, bias_constraint=bias_constraint, dropout=dropout, recurrent_dropout=recurrent_dropout,\n",
    "              implementation=2,return_sequences=True, return_state=False, go_backwards=False, \n",
    "                  stateful=False, unroll=False, reset_after=False))\n",
    "\n",
    "  gru_nn.add(GRU(units = units//2, activation=activation, recurrent_activation=recurrent_activation,use_bias=use_bias,\n",
    "              kernel_initializer=kernel_initializer, recurrent_initializer=recurrent_initializer, bias_initializer=bias_initializer,\n",
    "              kernel_regularizer=kernel_regularizer, recurrent_regularizer=recurrent_regularizer, bias_regularizer=bias_regularizer, activity_regularizer=activity_regularizer,\n",
    "              kernel_constraint=kernel_constraint,recurrent_constraint=recurrent_constraint, bias_constraint=bias_constraint, dropout=dropout, recurrent_dropout=recurrent_dropout,\n",
    "              implementation=2,return_sequences=True, return_state=False, go_backwards=False, \n",
    "                  stateful=False, unroll=False, reset_after=False))\n",
    "\n",
    "  gru_nn.add(GRU(units = units//4, activation=activation, recurrent_activation=recurrent_activation,use_bias=use_bias,\n",
    "              kernel_initializer=kernel_initializer, recurrent_initializer=recurrent_initializer, bias_initializer=bias_initializer,\n",
    "              kernel_regularizer=kernel_regularizer, recurrent_regularizer=recurrent_regularizer, bias_regularizer=bias_regularizer, activity_regularizer=activity_regularizer,\n",
    "              kernel_constraint=kernel_constraint,recurrent_constraint=recurrent_constraint, bias_constraint=bias_constraint, dropout=dropout, recurrent_dropout=recurrent_dropout,\n",
    "              implementation=2,return_sequences=False, return_state=False, go_backwards=False, \n",
    "                  stateful=False, unroll=False, reset_after=False))\n",
    "\n",
    "  gru_nn.add(Dense(units=units//8,activation=activation,use_bias=use_bias,kernel_initializer=kernel_initializer,bias_initializer=bias_initializer,\n",
    "                          kernel_regularizer=kernel_regularizer,bias_regularizer=bias_regularizer,activity_regularizer=activity_regularizer,\n",
    "                          kernel_constraint=kernel_constraint,bias_constraint=bias_constraint))\n",
    "\n",
    "  gru_nn.add(Dense(units=1,activation=activation,use_bias=use_bias,kernel_initializer=kernel_initializer,bias_initializer=bias_initializer,\n",
    "                          kernel_regularizer=kernel_regularizer,bias_regularizer=bias_regularizer,activity_regularizer=activity_regularizer,\n",
    "                          kernel_constraint=kernel_constraint,bias_constraint=bias_constraint))\n",
    "\n",
    "  gru_nn.compile(loss=loss,optimizer=optimizer)\n",
    "\n",
    "  return gru_nn\n",
    "\n"
   ]
  },
  {
   "cell_type": "code",
   "execution_count": null,
   "metadata": {
    "colab": {
     "base_uri": "https://localhost:8080/",
     "height": 1000
    },
    "colab_type": "code",
    "executionInfo": {
     "elapsed": 648746,
     "status": "ok",
     "timestamp": 1589620126919,
     "user": {
      "displayName": "Sumeet Zankar",
      "photoUrl": "https://lh3.googleusercontent.com/a-/AOh14Gj5a7e6XvDdwJG1sExY_Tc4AaxmktFNowPEG-kN8Q=s64",
      "userId": "09712304352027471477"
     },
     "user_tz": -120
    },
    "id": "jPgG1ez9qMeM",
    "outputId": "c4303df2-cd02-45e4-ba18-a44571523326"
   },
   "outputs": [
    {
     "name": "stdout",
     "output_type": "stream",
     "text": [
      "Train on 4404 samples, validate on 1101 samples\n",
      "Epoch 1/50\n",
      "4404/4404 [==============================] - 14s 3ms/step - loss: 0.8818 - val_loss: 0.1905\n",
      "Epoch 2/50\n",
      "4404/4404 [==============================] - 14s 3ms/step - loss: 0.1601 - val_loss: 0.0874\n",
      "Epoch 3/50\n",
      "4404/4404 [==============================] - 16s 4ms/step - loss: 0.1492 - val_loss: 0.0983\n",
      "Epoch 4/50\n",
      "4404/4404 [==============================] - 14s 3ms/step - loss: 0.1366 - val_loss: 0.0808\n",
      "Epoch 5/50\n",
      "4404/4404 [==============================] - 13s 3ms/step - loss: 0.1330 - val_loss: 0.0725\n",
      "Epoch 6/50\n",
      "4404/4404 [==============================] - 13s 3ms/step - loss: 0.1092 - val_loss: 0.0962\n",
      "Epoch 7/50\n",
      "4404/4404 [==============================] - 13s 3ms/step - loss: 0.1116 - val_loss: 0.0592\n",
      "Epoch 8/50\n",
      "4404/4404 [==============================] - 13s 3ms/step - loss: 0.1000 - val_loss: 0.1081\n",
      "Epoch 9/50\n",
      "4404/4404 [==============================] - 13s 3ms/step - loss: 0.1040 - val_loss: 0.0731\n",
      "Epoch 10/50\n",
      "4404/4404 [==============================] - 13s 3ms/step - loss: 0.1182 - val_loss: 0.0576\n",
      "Epoch 11/50\n",
      "4404/4404 [==============================] - 13s 3ms/step - loss: 0.1155 - val_loss: 0.0652\n",
      "Epoch 12/50\n",
      "4404/4404 [==============================] - 13s 3ms/step - loss: 0.1086 - val_loss: 0.0603\n",
      "Epoch 13/50\n",
      "4404/4404 [==============================] - 13s 3ms/step - loss: 0.1022 - val_loss: 0.0541\n",
      "Epoch 14/50\n",
      "4404/4404 [==============================] - 13s 3ms/step - loss: 0.1206 - val_loss: 0.0548\n",
      "Epoch 15/50\n",
      "4404/4404 [==============================] - 13s 3ms/step - loss: 0.1047 - val_loss: 0.0866\n",
      "Epoch 16/50\n",
      "4404/4404 [==============================] - 13s 3ms/step - loss: 0.1051 - val_loss: 0.0983\n",
      "Epoch 17/50\n",
      "4404/4404 [==============================] - 13s 3ms/step - loss: 0.1143 - val_loss: 0.0577\n",
      "Epoch 18/50\n",
      "4404/4404 [==============================] - 13s 3ms/step - loss: 0.1129 - val_loss: 0.0889\n",
      "Epoch 19/50\n",
      "4404/4404 [==============================] - 13s 3ms/step - loss: 0.1216 - val_loss: 0.0649\n",
      "Epoch 20/50\n",
      "4404/4404 [==============================] - 13s 3ms/step - loss: 0.0979 - val_loss: 0.0493\n",
      "Epoch 21/50\n",
      "4404/4404 [==============================] - 13s 3ms/step - loss: 0.1054 - val_loss: 0.0594\n",
      "Epoch 22/50\n",
      "4404/4404 [==============================] - 13s 3ms/step - loss: 0.1076 - val_loss: 0.0709\n",
      "Epoch 23/50\n",
      "4404/4404 [==============================] - 13s 3ms/step - loss: 0.1009 - val_loss: 0.0515\n",
      "Epoch 24/50\n",
      "4404/4404 [==============================] - 13s 3ms/step - loss: 0.1006 - val_loss: 0.0746\n",
      "Epoch 25/50\n",
      "4404/4404 [==============================] - 13s 3ms/step - loss: 0.1154 - val_loss: 0.0726\n",
      "Epoch 26/50\n",
      "4404/4404 [==============================] - 13s 3ms/step - loss: 0.1071 - val_loss: 0.0521\n",
      "Epoch 27/50\n",
      "4404/4404 [==============================] - 13s 3ms/step - loss: 0.1047 - val_loss: 0.0721\n",
      "Epoch 28/50\n",
      "4404/4404 [==============================] - 13s 3ms/step - loss: 0.1033 - val_loss: 0.0773\n",
      "Epoch 29/50\n",
      "4404/4404 [==============================] - 13s 3ms/step - loss: 0.0968 - val_loss: 0.0525\n",
      "Epoch 30/50\n",
      "4404/4404 [==============================] - 13s 3ms/step - loss: 0.1016 - val_loss: 0.0476\n",
      "Epoch 31/50\n",
      "4404/4404 [==============================] - 13s 3ms/step - loss: 0.0968 - val_loss: 0.0645\n",
      "Epoch 32/50\n",
      "4404/4404 [==============================] - 13s 3ms/step - loss: 0.0932 - val_loss: 0.0585\n",
      "Epoch 33/50\n",
      "4404/4404 [==============================] - 13s 3ms/step - loss: 0.0896 - val_loss: 0.0651\n",
      "Epoch 34/50\n",
      "4404/4404 [==============================] - 13s 3ms/step - loss: 0.0966 - val_loss: 0.0672\n",
      "Epoch 35/50\n",
      "4404/4404 [==============================] - 13s 3ms/step - loss: 0.0935 - val_loss: 0.0554\n",
      "Epoch 36/50\n",
      "4404/4404 [==============================] - 13s 3ms/step - loss: 0.0983 - val_loss: 0.0482\n",
      "Epoch 37/50\n",
      "4404/4404 [==============================] - 13s 3ms/step - loss: 0.0948 - val_loss: 0.0642\n",
      "Epoch 38/50\n",
      "4404/4404 [==============================] - 13s 3ms/step - loss: 0.0923 - val_loss: 0.0531\n",
      "Epoch 39/50\n",
      "4404/4404 [==============================] - 13s 3ms/step - loss: 0.0948 - val_loss: 0.1123\n",
      "Epoch 40/50\n",
      "4404/4404 [==============================] - 13s 3ms/step - loss: 0.0944 - val_loss: 0.0654\n",
      "Epoch 41/50\n",
      "4404/4404 [==============================] - 13s 3ms/step - loss: 0.0880 - val_loss: 0.0534\n",
      "Epoch 42/50\n",
      "4404/4404 [==============================] - 13s 3ms/step - loss: 0.0897 - val_loss: 0.0487\n",
      "Epoch 43/50\n",
      "4404/4404 [==============================] - 13s 3ms/step - loss: 0.0874 - val_loss: 0.0518\n",
      "Epoch 44/50\n",
      "4404/4404 [==============================] - 13s 3ms/step - loss: 0.0901 - val_loss: 0.0502\n",
      "Epoch 45/50\n",
      "4404/4404 [==============================] - 13s 3ms/step - loss: 0.0870 - val_loss: 0.0511\n",
      "Epoch 46/50\n",
      "4404/4404 [==============================] - 13s 3ms/step - loss: 0.0865 - val_loss: 0.0717\n",
      "Epoch 47/50\n",
      "4404/4404 [==============================] - 13s 3ms/step - loss: 0.0905 - val_loss: 0.0481\n",
      "Epoch 48/50\n",
      "4404/4404 [==============================] - 13s 3ms/step - loss: 0.0835 - val_loss: 0.0539\n",
      "Epoch 49/50\n",
      "4404/4404 [==============================] - 13s 3ms/step - loss: 0.0880 - val_loss: 0.0555\n",
      "Epoch 50/50\n",
      "4404/4404 [==============================] - 13s 3ms/step - loss: 0.0830 - val_loss: 0.0466\n"
     ]
    }
   ],
   "source": [
    "### CREATE KerasRegressor MODEL USING PREVIOUS FUNCTION ###\n",
    "gru_regressor = KerasRegressor(build_fn=create_gru_nn,verbose=1,\n",
    "                              optimizer=keras.optimizers.Adamax(learning_rate=0.01, beta_1=0.9, beta_2=0.999),\n",
    "                              units=500,\n",
    "                              use_bias=True,\n",
    "                              activation=None,\n",
    "                              recurrent_activation='sigmoid',\n",
    "                              kernel_initializer = keras.initializers.glorot_uniform(seed=980),\n",
    "                              recurrent_initializer = 'orthogonal',\n",
    "                              bias_initializer = keras.initializers.glorot_uniform(seed=988),\n",
    "                              kernel_regularizer = None,\n",
    "                              recurrent_regularizer = None,\n",
    "                              bias_regularizer = None,\n",
    "                              activity_regularizer = None,\n",
    "                              dropout = 0.0,\n",
    "                              recurrent_dropout = 0.0\n",
    "                              )\n",
    "\n",
    "### FIT MODEL TO TRAINING DATA ###\n",
    "history_gru=gru_regressor.fit(x_train,y_train,epochs=50,shuffle=True,validation_split=0.2)"
   ]
  },
  {
   "cell_type": "code",
   "execution_count": null,
   "metadata": {
    "colab": {
     "base_uri": "https://localhost:8080/",
     "height": 295
    },
    "colab_type": "code",
    "executionInfo": {
     "elapsed": 781,
     "status": "ok",
     "timestamp": 1589620196066,
     "user": {
      "displayName": "Sumeet Zankar",
      "photoUrl": "https://lh3.googleusercontent.com/a-/AOh14Gj5a7e6XvDdwJG1sExY_Tc4AaxmktFNowPEG-kN8Q=s64",
      "userId": "09712304352027471477"
     },
     "user_tz": -120
    },
    "id": "wsin0koLqLHF",
    "outputId": "900e3565-235c-42de-c88e-178992bd24a6"
   },
   "outputs": [
    {
     "data": {
      "image/png": "[encoded data removed]",
      "text/plain": [
       "<Figure size 432x288 with 1 Axes>"
      ]
     },
     "metadata": {
      "needs_background": "light",
      "tags": []
     },
     "output_type": "display_data"
    }
   ],
   "source": [
    "### PLOT TRAINING AND VALIDATION LOSS AS FUNCTION OF NO. OF EPOCHS###\n",
    "plt.plot(history_gru.history['loss'])\n",
    "plt.plot(history_gru.history['val_loss'])\n",
    "plt.title('Model loss')\n",
    "plt.ylabel('Loss')\n",
    "plt.xlabel('No. of Epochs')\n",
    "plt.legend(['Train','Test'],loc='upper left')\n",
    "plt.show()"
   ]
  },
  {
   "cell_type": "code",
   "execution_count": null,
   "metadata": {
    "colab": {
     "base_uri": "https://localhost:8080/",
     "height": 312
    },
    "colab_type": "code",
    "executionInfo": {
     "elapsed": 2229,
     "status": "ok",
     "timestamp": 1589622474309,
     "user": {
      "displayName": "Sumeet Zankar",
      "photoUrl": "https://lh3.googleusercontent.com/a-/AOh14Gj5a7e6XvDdwJG1sExY_Tc4AaxmktFNowPEG-kN8Q=s64",
      "userId": "09712304352027471477"
     },
     "user_tz": -120
    },
    "id": "DlV3gp02qNIO",
    "outputId": "36c71b3c-dd18-49ea-f7d4-0833f4c6f114"
   },
   "outputs": [
    {
     "name": "stdout",
     "output_type": "stream",
     "text": [
      "285/285 [==============================] - 0s 1ms/step\n"
     ]
    },
    {
     "data": {
      "image/png": "[encoded data removed]",
      "text/plain": [
       "<Figure size 432x288 with 1 Axes>"
      ]
     },
     "metadata": {
      "needs_background": "light",
      "tags": []
     },
     "output_type": "display_data"
    }
   ],
   "source": [
    "### PLOT OF MODEL PREDICTED VALUES VS ACTUAL VALUES ###\n",
    "predicted_labels = target_scaler.inverse_transform(gru_regressor.predict(x_test))\n",
    "actual_labels = target_scaler.inverse_transform(y_test) \n",
    "plt.plot(predicted_labels)\n",
    "plt.plot(actual_labels)\n",
    "plt.title('GRU Prediction')\n",
    "plt.ylabel('BTC Price (In USD)')\n",
    "plt.xlabel('Time Period (4HRS)')\n",
    "plt.legend(['Predicted','Actual'],loc='best')\n",
    "plt.show()"
   ]
  },
  {
   "cell_type": "code",
   "execution_count": null,
   "metadata": {
    "colab": {},
    "colab_type": "code",
    "id": "7_pKDUr6v36M"
   },
   "outputs": [],
   "source": []
  }
 ],
 "metadata": {
  "colab": {
   "authorship_tag": "ABX9TyNym1FnwjGJAsw6ZM8v9A3E",
   "machine_shape": "hm",
   "name": "deep_learing_project.ipynb",
   "provenance": []
  },
  "kernelspec": {
   "display_name": "Python 3",
   "language": "python",
   "name": "python3"
  },
  "language_info": {
   "codemirror_mode": {
    "name": "ipython",
    "version": 3
   },
   "file_extension": ".py",
   "mimetype": "text/x-python",
   "name": "python",
   "nbconvert_exporter": "python",
   "pygments_lexer": "ipython3",
   "version": "3.7.3"
  }
 },
 "nbformat": 4,
 "nbformat_minor": 4
}
