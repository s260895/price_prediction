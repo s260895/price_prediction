{
 "cells": [
  {
   "cell_type": "code",
   "execution_count": 6,
   "metadata": {
    "colab": {
     "base_uri": "https://localhost:8080/",
     "height": 34
    },
    "colab_type": "code",
    "executionInfo": {
     "elapsed": 3012,
     "status": "ok",
     "timestamp": 1594215385993,
     "user": {
      "displayName": "Sumeet Zankar",
      "photoUrl": "https://lh3.googleusercontent.com/a-/AOh14Gj5a7e6XvDdwJG1sExY_Tc4AaxmktFNowPEG-kN8Q=s64",
      "userId": "09712304352027471477"
     },
     "user_tz": -120
    },
    "id": "_Izdq-cIeR7A",
    "outputId": "4aef9427-0572-4cdc-b116-5f017bbf775f"
   },
   "outputs": [],
   "source": [
    "import numpy as np\n",
    "import matplotlib.pyplot as plt\n",
    "import pandas as pd\n",
    "from datetime import datetime\n",
    "from binance.client import Client\n",
    "import copy\n",
    "from pyti.exponential_moving_average import exponential_moving_average as ema\n",
    "from pyti.bollinger_bands import upper_bollinger_band as ubb\n",
    "from pyti.bollinger_bands import middle_bollinger_band as mbb\n",
    "from pyti.bollinger_bands import lower_bollinger_band as lbb\n",
    "from pyti.relative_strength_index import relative_strength_index as rsi\n",
    "\n",
    "\n",
    "%matplotlib inline\n",
    "\n",
    "from sklearn.preprocessing import StandardScaler\n",
    "from sklearn.decomposition import PCA\n",
    "from sklearn.model_selection import train_test_split\n",
    "\n",
    "from keras.wrappers.scikit_learn import KerasRegressor\n",
    "from keras.wrappers.scikit_learn import KerasClassifier\n",
    "from keras.models import Sequential\n",
    "from keras.layers import Dense,LSTM,GRU\n",
    "import keras\n",
    "\n",
    "from sklearn.model_selection import KFold\n",
    "from sklearn.model_selection import cross_val_score\n",
    "\n",
    "from sklearn.pipeline import Pipeline\n",
    "\n",
    "from sklearn.model_selection import GridSearchCV\n",
    "\n",
    "from keras import backend as K"
   ]
  },
  {
   "cell_type": "code",
   "execution_count": null,
   "metadata": {
    "colab": {},
    "colab_type": "code",
    "id": "7bSaffjPOcX5"
   },
   "outputs": [],
   "source": []
  },
  {
   "cell_type": "code",
   "execution_count": 7,
   "metadata": {
    "colab": {},
    "colab_type": "code",
    "executionInfo": {
     "elapsed": 411,
     "status": "ok",
     "timestamp": 1594215394000,
     "user": {
      "displayName": "Sumeet Zankar",
      "photoUrl": "https://lh3.googleusercontent.com/a-/AOh14Gj5a7e6XvDdwJG1sExY_Tc4AaxmktFNowPEG-kN8Q=s64",
      "userId": "09712304352027471477"
     },
     "user_tz": -120
    },
    "id": "KFK-YD27rWPN"
   },
   "outputs": [],
   "source": [
    "### METHOD FOR PULLING OHLCV DATA FROM API ###\n",
    "\n",
    "def get_binance_klines(period='4h'):\n",
    "\n",
    "  binance_keys = {\n",
    "      'api_key': \"TMu6CGy4SXCHDji8VHexZ18vOQYbrIfQo86hz0EOPpyzhBRIl4wZ1ivmmbEul2tu\",\n",
    "      'api_secret':\"x2pzaVdcB36TFEmcnMhJvir6o0qpXJ8foL9LGWAtCpHFcJCfdiah2toJCg7hJl4E\"\n",
    "  }\n",
    "\n",
    "  client = Client(binance_keys['api_key'],binance_keys['api_secret'])\n",
    "\n",
    "  if period == '15m':\n",
    "    return client.get_historical_klines(\"BTCUSDT\", Client.KLINE_INTERVAL_15MINUTE,\"1 Aug, 2017\")\n",
    "\n",
    "  if period == '4h':\n",
    "    return client.get_historical_klines(\"BTCUSDT\", Client.KLINE_INTERVAL_4HOUR,\"1 Aug, 2017\")\n",
    "\n",
    "  if period == '12h':\n",
    "    return client.get_historical_klines(\"BTCUSDT\", Client.KLINE_INTERVAL_12HOUR,\"1 Aug, 2017\")\n",
    "\n",
    "  if period == '6h':\n",
    "    return client.get_historical_klines(\"BTCUSDT\", Client.KLINE_INTERVAL_6HOUR,\"1 Aug, 2017\")\n",
    "\n",
    "  if period == '1d':\n",
    "    return client.get_historical_klines(\"BTCUSDT\", Client.KLINE_INTERVAL_1DAY,\"1 Aug, 2017\")\n",
    "\n",
    "  return None\n",
    "\n",
    "\n",
    "\n",
    "### GENERATE ADDITIONAL TECHNICAL INDICATORS FROM THE OPENING PRICE ###\n",
    "### TECHNICAL INDICATORS: \n",
    "#### EMAs: EXPONENTIAL MOVING AVERAGES FOR VARIOUS PERIODS (5-200)\n",
    "#### BOLLINGER BANDS: UPPER, MIDDLE, LOWER BOLLINGER BAND AND BAND BREADTH\n",
    "#### MACD: MOVING AVERAGE CONVERGENCE DIVERGENCE\n",
    "#### RSI: RELATIVE STRENGTH INDEX \n",
    "\n",
    "def get_data(klines):\n",
    "    x = copy.deepcopy(pd.DataFrame(klines)[[1]])\n",
    "    x.rename(columns={1:\"Open\"},inplace=True)\n",
    "    for col in x.columns:\n",
    "        x[col] = x[col].astype(float)\n",
    "    \n",
    "    y_high = copy.deepcopy(pd.DataFrame(klines)[[2]])\n",
    "    y_high.rename(columns={2:\"High\"},inplace=True)\n",
    "    for col in y_high.columns:\n",
    "        y_high[col] = y_high[col].astype(float)\n",
    "    \n",
    "    y_low = copy.deepcopy(pd.DataFrame(klines)[[3]])\n",
    "    y_low.rename(columns={3:\"Low\"},inplace=True)\n",
    "    for col in y_low.columns:\n",
    "        y_low[col] = y_low[col].astype(float)\n",
    "    \n",
    "    y_close = copy.deepcopy(pd.DataFrame(klines)[[4]])\n",
    "    y_close.rename(columns={4:\"Close\"},inplace=True)\n",
    "    for col in y_close.columns:\n",
    "        y_close[col] = y_close[col].astype(float)\n",
    "    \n",
    "    closes = [elem[0] for elem in y_close.values]\n",
    "    opens = [elem for elem in x['Open'].values]\n",
    "    diff = [elem[0]-elem[1] for elem in zip(closes,opens)]\n",
    "    y_status = [1 if elem>=0 else 0 for elem in diff]\n",
    "\n",
    "    x['low_bollinger'] = lbb(x['Open'].tolist(),20)\n",
    "    x['high_bollinger'] = ubb(x['Open'].tolist(),20)\n",
    "    x['band_breadth'] = x['high_bollinger'] - x['low_bollinger']\n",
    "    x['middle_bollinger'] = mbb(x['Open'].tolist(),20)\n",
    "\n",
    "    x['rsi'] = rsi(x['Open'].tolist(),20)\n",
    "\n",
    "    x['ema_5'] = ema(x['Open'].tolist(),6)\n",
    "    x['ema_10'] = ema(x['Open'].tolist(),10)\n",
    "    x['ema_15'] = ema(x['Open'].tolist(),10)\n",
    "    x['ema_20'] = ema(x['Open'].tolist(),10)\n",
    "    x['ema_25'] = ema(x['Open'].tolist(),10)\n",
    "    x['ema_30'] = ema(x['Open'].tolist(),10)\n",
    "    x['ema_35'] = ema(x['Open'].tolist(),10)\n",
    "    x['ema_40'] = ema(x['Open'].tolist(),10)\n",
    "    x['ema_45'] = ema(x['Open'].tolist(),10)\n",
    "    x['ema_50'] = ema(x['Open'].tolist(),10)\n",
    "    x['ema_60'] = ema(x['Open'].tolist(),10)\n",
    "    x['ema_70'] = ema(x['Open'].tolist(),10)\n",
    "    x['ema_80'] = ema(x['Open'].tolist(),10)\n",
    "    x['ema_90'] = ema(x['Open'].tolist(),10)\n",
    "    x['ema_100'] = ema(x['Open'].tolist(),100)\n",
    "    x['ema_200'] = ema(x['Open'].tolist(),200)\n",
    "    \n",
    "    x['macd_line'] = ema(x['Open'].tolist(),12) - ema(x['Open'].tolist(),26)\n",
    "    x['macd_signal'] = ema(x['macd_line'].tolist(),9)\n",
    "    x['macd_histogram'] = x['macd_line'] - x['macd_signal']\n",
    "\n",
    "    x['fast_macd_line'] = ema(x['Open'].tolist(),5) - ema(x['Open'].tolist(),35)\n",
    "    x['fast_macd_signal'] = ema(x['fast_macd_line'].tolist(),5)\n",
    "    x['fast_macd_histogram'] = x['fast_macd_line'] - x['fast_macd_signal']\n",
    "\n",
    "    del x['Open']\n",
    "\n",
    "    x = x[200:]\n",
    "    y_close = y_close[200:]\n",
    "    y_high = y_high[200:]\n",
    "    y_low = y_low[200:]\n",
    "    y_status = y_status[200:]\n",
    "    x = x.reset_index(drop=True)\n",
    "    \n",
    "    #x,y_close,y_low,y_high = np.array(x),np.array(y_close),np.array(y_low),np.array(y_high)\n",
    "    \n",
    "    return x,y_close,y_low,y_high,y_status\n",
    "\n",
    "\n",
    "\n",
    "# ### FOR CLASSIFICATION TASK, WE USE CANDLE TYPE AS LABELS ###\n",
    "# ### SPLIT INPUTS AND LABELS INTO TRAIN/TEST SETS ###\n",
    "# X_train, X_test, Y_train, Y_test = train_test_split(x, y_status, test_size=0.05, shuffle=False)\n",
    "# X_train,X_test, Y_train, Y_test = np.array(X_train),np.array(X_test),np.array(Y_train),np.array(Y_test)\n",
    "\n",
    "# ### SCALE DATA ###\n",
    "# input_scaler = StandardScaler()\n",
    "# X_train_std = input_scaler.fit_transform(X_train) \n",
    "# X_test_std = input_scaler.transform(X_test)\n",
    "\n",
    "# #target_scaler = StandardScaler()\n",
    "# #Y_train_std = target_scaler.fit_transform(Y_train)\n",
    "# #Y_test_std = target_scaler.transform(Y_test)\n",
    "\n",
    "# ### COMPRESS DATA ###\n",
    "# input_pca = PCA(n_components=3)\n",
    "# X_train_pca = input_pca.fit_transform(X_train_std)\n",
    "# X_test_pca = input_pca.transform(X_test_std)\n",
    "\n",
    "\n",
    "# ### FOR REGRESSION TASK, WE USE CLOSE PRICE AS LABELS ###\n",
    "\n",
    "# ### SPLIT INPUTS AND LABELS INTO TRAIN/TEST SETS ###\n",
    "# X_train, X_test, Y_train, Y_test = train_test_split(x, y_close, test_size=0.05, shuffle=False)\n",
    "# X_train,X_test, Y_train, Y_test = np.array(X_train),np.array(X_test),np.array(Y_train),np.array(Y_test)\n",
    "\n",
    "# ### SCALE DATA ###\n",
    "# input_scaler = StandardScaler()\n",
    "# X_train_std = input_scaler.fit_transform(X_train) \n",
    "# X_test_std = input_scaler.transform(X_test)\n",
    "\n",
    "# target_scaler = StandardScaler()\n",
    "# Y_train_std = target_scaler.fit_transform(Y_train)\n",
    "# Y_test_std = target_scaler.transform(Y_test)\n",
    "\n",
    "# ### COMPRESS DATA ###\n",
    "# input_pca = PCA(n_components=5)\n",
    "# X_train_pca = input_pca.fit_transform(X_train_std)\n",
    "# X_test_pca = input_pca.transform(X_test_std)"
   ]
  },
  {
   "cell_type": "code",
   "execution_count": 4,
   "metadata": {
    "colab": {},
    "colab_type": "code",
    "executionInfo": {
     "elapsed": 452,
     "status": "ok",
     "timestamp": 1594215409381,
     "user": {
      "displayName": "Sumeet Zankar",
      "photoUrl": "https://lh3.googleusercontent.com/a-/AOh14Gj5a7e6XvDdwJG1sExY_Tc4AaxmktFNowPEG-kN8Q=s64",
      "userId": "09712304352027471477"
     },
     "user_tz": -120
    },
    "id": "p58f2aUewn-y"
   },
   "outputs": [],
   "source": []
  },
  {
   "cell_type": "code",
   "execution_count": 8,
   "metadata": {
    "colab": {},
    "colab_type": "code",
    "executionInfo": {
     "elapsed": 1429,
     "status": "ok",
     "timestamp": 1594216069447,
     "user": {
      "displayName": "Sumeet Zankar",
      "photoUrl": "https://lh3.googleusercontent.com/a-/AOh14Gj5a7e6XvDdwJG1sExY_Tc4AaxmktFNowPEG-kN8Q=s64",
      "userId": "09712304352027471477"
     },
     "user_tz": -120
    },
    "id": "pQiNvJBFwn5a"
   },
   "outputs": [],
   "source": [
    "### PULL KLINE DATA USING API ###\n",
    "### NOTE:SUBJECT TO API LIMITS, USE SPARINGLY ###\n",
    "klines = get_binance_klines('1d')\n",
    "\n",
    "### GET INPUTS AND LABELS FOR ML MODELS ###\n",
    "### INPUT - INDICATORS(BOLLINGER BANDS, EMAs, RSI, MACD) CALCULATED ON OPEN PRICE\n",
    "### LABEL - LOW PRICE / HIGH PRICE / CLOSE PRICE / CANDLE TYPE\n",
    "x,y_close,y_low,y_high,y_status = get_data(klines)\n",
    "\n"
   ]
  },
  {
   "cell_type": "code",
   "execution_count": 14,
   "metadata": {
    "colab": {},
    "colab_type": "code",
    "id": "JezXKz0oA-sm"
   },
   "outputs": [],
   "source": [
    "### CREATE CUSTOM LOSS FUCNTION(RMSE) ###\n",
    "### FOR USE AS EVALUATION METRIC FOR ALL REGRESSION TASKS ###\n",
    "def root_mean_squared_error(y_true, y_pred):\n",
    "        return K.sqrt(K.mean(K.square(y_pred - y_true))) \n"
   ]
  },
  {
   "cell_type": "code",
   "execution_count": 15,
   "metadata": {
    "colab": {
     "base_uri": "https://localhost:8080/",
     "height": 34
    },
    "colab_type": "code",
    "executionInfo": {
     "elapsed": 665,
     "status": "ok",
     "timestamp": 1589940053833,
     "user": {
      "displayName": "Sumeet Zankar",
      "photoUrl": "https://lh3.googleusercontent.com/a-/AOh14Gj5a7e6XvDdwJG1sExY_Tc4AaxmktFNowPEG-kN8Q=s64",
      "userId": "09712304352027471477"
     },
     "user_tz": -120
    },
    "id": "2mltmgvDjnpu",
    "outputId": "34f210e7-e96b-47b4-e164-24ff08ee8e2c"
   },
   "outputs": [],
   "source": [
    "### CONVERT TRAINING AND TEST DATA INTO TIME-SERIES DATA ###\n",
    "### NECESSARY FOR TRAINING RECURRENT NEURAL NETWORKS ###\n",
    "\n",
    "def convert_to_timeseries(X_train,X_test,Y_train,Y_test,lookback=10):\n",
    "    \n",
    "  x_train = list()\n",
    "  x_test = list()\n",
    "  #lookback = 6\n",
    "\n",
    "  for j in range(np.shape(X_train)[0]-lookback):\n",
    "    x_train.append(list())\n",
    "    for i in range(lookback):\n",
    "      x_train[j].append(X_train[i+j])\n",
    "\n",
    "  for j in range(np.shape(X_test)[0]-lookback):\n",
    "    x_test.append(list())\n",
    "    for i in range(lookback):\n",
    "      x_test[j].append(X_test[i+j])\n",
    "\n",
    "\n",
    "  x_train, x_test = np.array(x_train), np.array(x_test)\n",
    "  #x_train, x_test = np.reshape(x_train,(np.shape(x_train)[0],np.shape(x_train)[1],1)),np.reshape(x_test,(np.shape(x_test)[0],np.shape(x_test)[1],1))\n",
    "\n",
    "  y_train, y_test = np.array(Y_train)[lookback-1:-1], np.array(Y_test)[lookback-1:-1]\n",
    "\n",
    "  # np.shape(x_train), np.shape(y_train), np.shape(x_test), np.shape(y_test)\n",
    "\n",
    "  return x_train,x_test, y_train, y_test\n"
   ]
  },
  {
   "cell_type": "code",
   "execution_count": 28,
   "metadata": {
    "colab": {},
    "colab_type": "code",
    "id": "fWvfBtZ-212N"
   },
   "outputs": [
    {
     "output_type": "error",
     "ename": "KeyError",
     "evalue": "0",
     "traceback": [
      "\u001b[1;31m---------------------------------------------------------------------------\u001b[0m",
      "\u001b[1;31mKeyError\u001b[0m                                  Traceback (most recent call last)",
      "\u001b[1;32m~\\AppData\\Roaming\\Python\\Python39\\site-packages\\pandas\\core\\indexes\\base.py\u001b[0m in \u001b[0;36mget_loc\u001b[1;34m(self, key, method, tolerance)\u001b[0m\n\u001b[0;32m   3079\u001b[0m             \u001b[1;32mtry\u001b[0m\u001b[1;33m:\u001b[0m\u001b[1;33m\u001b[0m\u001b[1;33m\u001b[0m\u001b[0m\n\u001b[1;32m-> 3080\u001b[1;33m                 \u001b[1;32mreturn\u001b[0m \u001b[0mself\u001b[0m\u001b[1;33m.\u001b[0m\u001b[0m_engine\u001b[0m\u001b[1;33m.\u001b[0m\u001b[0mget_loc\u001b[0m\u001b[1;33m(\u001b[0m\u001b[0mcasted_key\u001b[0m\u001b[1;33m)\u001b[0m\u001b[1;33m\u001b[0m\u001b[1;33m\u001b[0m\u001b[0m\n\u001b[0m\u001b[0;32m   3081\u001b[0m             \u001b[1;32mexcept\u001b[0m \u001b[0mKeyError\u001b[0m \u001b[1;32mas\u001b[0m \u001b[0merr\u001b[0m\u001b[1;33m:\u001b[0m\u001b[1;33m\u001b[0m\u001b[1;33m\u001b[0m\u001b[0m\n",
      "\u001b[1;32mpandas\\_libs\\index.pyx\u001b[0m in \u001b[0;36mpandas._libs.index.IndexEngine.get_loc\u001b[1;34m()\u001b[0m\n",
      "\u001b[1;32mpandas\\_libs\\index.pyx\u001b[0m in \u001b[0;36mpandas._libs.index.IndexEngine.get_loc\u001b[1;34m()\u001b[0m\n",
      "\u001b[1;32mpandas\\_libs\\hashtable_class_helper.pxi\u001b[0m in \u001b[0;36mpandas._libs.hashtable.PyObjectHashTable.get_item\u001b[1;34m()\u001b[0m\n",
      "\u001b[1;32mpandas\\_libs\\hashtable_class_helper.pxi\u001b[0m in \u001b[0;36mpandas._libs.hashtable.PyObjectHashTable.get_item\u001b[1;34m()\u001b[0m\n",
      "\u001b[1;31mKeyError\u001b[0m: 0",
      "\nThe above exception was the direct cause of the following exception:\n",
      "\u001b[1;31mKeyError\u001b[0m                                  Traceback (most recent call last)",
      "\u001b[1;32m<ipython-input-28-e519a281a8e3>\u001b[0m in \u001b[0;36m<module>\u001b[1;34m\u001b[0m\n\u001b[0;32m      1\u001b[0m \u001b[0mX_train\u001b[0m\u001b[1;33m,\u001b[0m\u001b[0mX_test\u001b[0m\u001b[1;33m,\u001b[0m\u001b[0mY_train\u001b[0m\u001b[1;33m,\u001b[0m\u001b[0mY_test\u001b[0m \u001b[1;33m=\u001b[0m \u001b[0mtrain_test_split\u001b[0m\u001b[1;33m(\u001b[0m\u001b[0mx\u001b[0m\u001b[1;33m,\u001b[0m\u001b[0my_close\u001b[0m\u001b[1;33m,\u001b[0m\u001b[0mtest_size\u001b[0m\u001b[1;33m=\u001b[0m\u001b[1;36m0.1\u001b[0m\u001b[1;33m,\u001b[0m\u001b[0mshuffle\u001b[0m\u001b[1;33m=\u001b[0m\u001b[1;32mFalse\u001b[0m\u001b[1;33m)\u001b[0m\u001b[1;33m\u001b[0m\u001b[1;33m\u001b[0m\u001b[0m\n\u001b[0;32m      2\u001b[0m \u001b[1;33m\u001b[0m\u001b[0m\n\u001b[1;32m----> 3\u001b[1;33m \u001b[0mconvert_to_timeseries\u001b[0m\u001b[1;33m(\u001b[0m\u001b[0mX_train\u001b[0m\u001b[1;33m,\u001b[0m\u001b[0mX_test\u001b[0m\u001b[1;33m,\u001b[0m\u001b[0mY_train\u001b[0m\u001b[1;33m,\u001b[0m\u001b[0mY_test\u001b[0m\u001b[1;33m,\u001b[0m\u001b[0mlookback\u001b[0m\u001b[1;33m=\u001b[0m\u001b[1;36m30\u001b[0m\u001b[1;33m)\u001b[0m\u001b[1;33m\u001b[0m\u001b[1;33m\u001b[0m\u001b[0m\n\u001b[0m",
      "\u001b[1;32m<ipython-input-15-bc687a01ddba>\u001b[0m in \u001b[0;36mconvert_to_timeseries\u001b[1;34m(X_train, X_test, Y_train, Y_test, lookback)\u001b[0m\n\u001b[0;32m     11\u001b[0m     \u001b[0mx_train\u001b[0m\u001b[1;33m.\u001b[0m\u001b[0mappend\u001b[0m\u001b[1;33m(\u001b[0m\u001b[0mlist\u001b[0m\u001b[1;33m(\u001b[0m\u001b[1;33m)\u001b[0m\u001b[1;33m)\u001b[0m\u001b[1;33m\u001b[0m\u001b[1;33m\u001b[0m\u001b[0m\n\u001b[0;32m     12\u001b[0m     \u001b[1;32mfor\u001b[0m \u001b[0mi\u001b[0m \u001b[1;32min\u001b[0m \u001b[0mrange\u001b[0m\u001b[1;33m(\u001b[0m\u001b[0mlookback\u001b[0m\u001b[1;33m)\u001b[0m\u001b[1;33m:\u001b[0m\u001b[1;33m\u001b[0m\u001b[1;33m\u001b[0m\u001b[0m\n\u001b[1;32m---> 13\u001b[1;33m       \u001b[0mx_train\u001b[0m\u001b[1;33m[\u001b[0m\u001b[0mj\u001b[0m\u001b[1;33m]\u001b[0m\u001b[1;33m.\u001b[0m\u001b[0mappend\u001b[0m\u001b[1;33m(\u001b[0m\u001b[0mX_train\u001b[0m\u001b[1;33m[\u001b[0m\u001b[0mi\u001b[0m\u001b[1;33m+\u001b[0m\u001b[0mj\u001b[0m\u001b[1;33m]\u001b[0m\u001b[1;33m)\u001b[0m\u001b[1;33m\u001b[0m\u001b[1;33m\u001b[0m\u001b[0m\n\u001b[0m\u001b[0;32m     14\u001b[0m \u001b[1;33m\u001b[0m\u001b[0m\n\u001b[0;32m     15\u001b[0m   \u001b[1;32mfor\u001b[0m \u001b[0mj\u001b[0m \u001b[1;32min\u001b[0m \u001b[0mrange\u001b[0m\u001b[1;33m(\u001b[0m\u001b[0mnp\u001b[0m\u001b[1;33m.\u001b[0m\u001b[0mshape\u001b[0m\u001b[1;33m(\u001b[0m\u001b[0mX_test\u001b[0m\u001b[1;33m)\u001b[0m\u001b[1;33m[\u001b[0m\u001b[1;36m0\u001b[0m\u001b[1;33m]\u001b[0m\u001b[1;33m-\u001b[0m\u001b[0mlookback\u001b[0m\u001b[1;33m)\u001b[0m\u001b[1;33m:\u001b[0m\u001b[1;33m\u001b[0m\u001b[1;33m\u001b[0m\u001b[0m\n",
      "\u001b[1;32m~\\AppData\\Roaming\\Python\\Python39\\site-packages\\pandas\\core\\frame.py\u001b[0m in \u001b[0;36m__getitem__\u001b[1;34m(self, key)\u001b[0m\n\u001b[0;32m   3022\u001b[0m             \u001b[1;32mif\u001b[0m \u001b[0mself\u001b[0m\u001b[1;33m.\u001b[0m\u001b[0mcolumns\u001b[0m\u001b[1;33m.\u001b[0m\u001b[0mnlevels\u001b[0m \u001b[1;33m>\u001b[0m \u001b[1;36m1\u001b[0m\u001b[1;33m:\u001b[0m\u001b[1;33m\u001b[0m\u001b[1;33m\u001b[0m\u001b[0m\n\u001b[0;32m   3023\u001b[0m                 \u001b[1;32mreturn\u001b[0m \u001b[0mself\u001b[0m\u001b[1;33m.\u001b[0m\u001b[0m_getitem_multilevel\u001b[0m\u001b[1;33m(\u001b[0m\u001b[0mkey\u001b[0m\u001b[1;33m)\u001b[0m\u001b[1;33m\u001b[0m\u001b[1;33m\u001b[0m\u001b[0m\n\u001b[1;32m-> 3024\u001b[1;33m             \u001b[0mindexer\u001b[0m \u001b[1;33m=\u001b[0m \u001b[0mself\u001b[0m\u001b[1;33m.\u001b[0m\u001b[0mcolumns\u001b[0m\u001b[1;33m.\u001b[0m\u001b[0mget_loc\u001b[0m\u001b[1;33m(\u001b[0m\u001b[0mkey\u001b[0m\u001b[1;33m)\u001b[0m\u001b[1;33m\u001b[0m\u001b[1;33m\u001b[0m\u001b[0m\n\u001b[0m\u001b[0;32m   3025\u001b[0m             \u001b[1;32mif\u001b[0m \u001b[0mis_integer\u001b[0m\u001b[1;33m(\u001b[0m\u001b[0mindexer\u001b[0m\u001b[1;33m)\u001b[0m\u001b[1;33m:\u001b[0m\u001b[1;33m\u001b[0m\u001b[1;33m\u001b[0m\u001b[0m\n\u001b[0;32m   3026\u001b[0m                 \u001b[0mindexer\u001b[0m \u001b[1;33m=\u001b[0m \u001b[1;33m[\u001b[0m\u001b[0mindexer\u001b[0m\u001b[1;33m]\u001b[0m\u001b[1;33m\u001b[0m\u001b[1;33m\u001b[0m\u001b[0m\n",
      "\u001b[1;32m~\\AppData\\Roaming\\Python\\Python39\\site-packages\\pandas\\core\\indexes\\base.py\u001b[0m in \u001b[0;36mget_loc\u001b[1;34m(self, key, method, tolerance)\u001b[0m\n\u001b[0;32m   3080\u001b[0m                 \u001b[1;32mreturn\u001b[0m \u001b[0mself\u001b[0m\u001b[1;33m.\u001b[0m\u001b[0m_engine\u001b[0m\u001b[1;33m.\u001b[0m\u001b[0mget_loc\u001b[0m\u001b[1;33m(\u001b[0m\u001b[0mcasted_key\u001b[0m\u001b[1;33m)\u001b[0m\u001b[1;33m\u001b[0m\u001b[1;33m\u001b[0m\u001b[0m\n\u001b[0;32m   3081\u001b[0m             \u001b[1;32mexcept\u001b[0m \u001b[0mKeyError\u001b[0m \u001b[1;32mas\u001b[0m \u001b[0merr\u001b[0m\u001b[1;33m:\u001b[0m\u001b[1;33m\u001b[0m\u001b[1;33m\u001b[0m\u001b[0m\n\u001b[1;32m-> 3082\u001b[1;33m                 \u001b[1;32mraise\u001b[0m \u001b[0mKeyError\u001b[0m\u001b[1;33m(\u001b[0m\u001b[0mkey\u001b[0m\u001b[1;33m)\u001b[0m \u001b[1;32mfrom\u001b[0m \u001b[0merr\u001b[0m\u001b[1;33m\u001b[0m\u001b[1;33m\u001b[0m\u001b[0m\n\u001b[0m\u001b[0;32m   3083\u001b[0m \u001b[1;33m\u001b[0m\u001b[0m\n\u001b[0;32m   3084\u001b[0m         \u001b[1;32mif\u001b[0m \u001b[0mtolerance\u001b[0m \u001b[1;32mis\u001b[0m \u001b[1;32mnot\u001b[0m \u001b[1;32mNone\u001b[0m\u001b[1;33m:\u001b[0m\u001b[1;33m\u001b[0m\u001b[1;33m\u001b[0m\u001b[0m\n",
      "\u001b[1;31mKeyError\u001b[0m: 0"
     ]
    }
   ],
   "source": [
    "X_train,X_test,Y_train,Y_test = train_test_split(x,y_close,test_size=0.1,shuffle=False)\n",
    "\n",
    "convert_to_timeseries(X_train,X_test,Y_train,Y_test,lookback=30)"
   ]
  },
  {
   "cell_type": "code",
   "execution_count": null,
   "metadata": {
    "colab": {},
    "colab_type": "code",
    "id": "x2yw51ZWP10i"
   },
   "outputs": [],
   "source": []
  },
  {
   "cell_type": "code",
   "execution_count": 5,
   "metadata": {
    "colab": {},
    "colab_type": "code",
    "id": "utz_4vLjPJA4"
   },
   "outputs": [],
   "source": [
    "# ### MODEL 2 - LSTM RECURRENT NEURAL NETWORK ###\n",
    "\n",
    "# ### METHOD TO CREATE LSTM RNN ###\n",
    "# def create_lstm_nn(input_shape = np.shape(x_train)[1:],units=100,loss=root_mean_squared_error,optimizer='adam',activation=None,recurrent_activation=None,use_bias=True,\n",
    "#                     kernel_initializer='zeros',recurrent_initializer='zeros',bias_initializer='zeros',\n",
    "#                     kernel_regularizer=None,recurrent_regularizer=None,bias_regularizer=None,activity_regularizer=None,\n",
    "#                           kernel_constraint=None,bias_constraint=None,recurrent_constraint=None,dropout=0.0,recurrent_dropout=0.0,unit_forget_bias=True):\n",
    "#   lstm_nn = Sequential()\n",
    "\n",
    "#   lstm_nn.add(LSTM(units = units, activation=activation, recurrent_activation=recurrent_activation,use_bias=use_bias,\n",
    "#               kernel_initializer=kernel_initializer, recurrent_initializer=recurrent_initializer, bias_initializer=bias_initializer,\n",
    "#               unit_forget_bias=unit_forget_bias,kernel_regularizer=kernel_regularizer, recurrent_regularizer=recurrent_regularizer, bias_regularizer=bias_regularizer, activity_regularizer=activity_regularizer,\n",
    "#               kernel_constraint=kernel_constraint,recurrent_constraint=recurrent_constraint, bias_constraint=bias_constraint, dropout=dropout, recurrent_dropout=recurrent_dropout,\n",
    "#               implementation=2,return_sequences=True, return_state=False, go_backwards=False, \n",
    "#                   stateful=False, unroll=False,input_shape=input_shape))\n",
    "\n",
    "# #   lstm_nn.add(LSTM(units = units//2, activation=activation, recurrent_activation=recurrent_activation,use_bias=use_bias,\n",
    "# #               kernel_initializer=kernel_initializer, recurrent_initializer=recurrent_initializer, bias_initializer=bias_initializer,\n",
    "# #               unit_forget_bias=unit_forget_bias,kernel_regularizer=kernel_regularizer, recurrent_regularizer=recurrent_regularizer, bias_regularizer=bias_regularizer, activity_regularizer=activity_regularizer,\n",
    "# #               kernel_constraint=kernel_constraint,recurrent_constraint=recurrent_constraint, bias_constraint=bias_constraint, dropout=dropout, recurrent_dropout=recurrent_dropout,\n",
    "# #               implementation=2,return_sequences=True, return_state=False, go_backwards=False, \n",
    "# #                   stateful=False, unroll=False))\n",
    "  \n",
    "# #   lstm_nn.add(LSTM(units = units//4, activation=activation, recurrent_activation=recurrent_activation,use_bias=use_bias,\n",
    "# #               kernel_initializer=kernel_initializer, recurrent_initializer=recurrent_initializer, bias_initializer=bias_initializer,\n",
    "# #               unit_forget_bias=unit_forget_bias,kernel_regularizer=kernel_regularizer, recurrent_regularizer=recurrent_regularizer, bias_regularizer=bias_regularizer, activity_regularizer=activity_regularizer,\n",
    "# #               kernel_constraint=kernel_constraint,recurrent_constraint=recurrent_constraint, bias_constraint=bias_constraint, dropout=dropout, recurrent_dropout=recurrent_dropout,\n",
    "# #               implementation=2,return_sequences=False, return_state=False, go_backwards=False, \n",
    "# #                   stateful=False, unroll=False))\n",
    "\n",
    "# #   lstm_nn.add(Dense(units=units//8,activation=activation,use_bias=use_bias,kernel_initializer=kernel_initializer,bias_initializer=bias_initializer,\n",
    "# #                           kernel_regularizer=kernel_regularizer,bias_regularizer=bias_regularizer,activity_regularizer=activity_regularizer,\n",
    "# #                           kernel_constraint=kernel_constraint,bias_constraint=bias_constraint))\n",
    "\n",
    "#   lstm_nn.add(Dense(units=1,activation=activation,use_bias=use_bias,kernel_initializer=kernel_initializer,bias_initializer=bias_initializer,\n",
    "#                           kernel_regularizer=kernel_regularizer,bias_regularizer=bias_regularizer,activity_regularizer=activity_regularizer,\n",
    "#                           kernel_constraint=kernel_constraint,bias_constraint=bias_constraint))\n",
    "\n",
    "#   lstm_nn.compile(loss=loss,optimizer=optimizer)\n",
    "\n",
    "#   return lstm_nn\n",
    "\n",
    "### HYPER-PARAMETER TUNING ###\n",
    "\n",
    "### TUNABLE HYPERPARAMETERS ###\n",
    "### UNITS, OPTIMIZER, ACTIVATION, RECURRENT ACTIVATION, USE_BIAS, INITIALIZER(KERNEL,RECURRENT,BIAS), REGULARIZER(KERNEL,RECURRENT,BIAS),\n",
    "### CONSTRAINTS(KERNEl,RECURRENT,BIAS), DROPOUT, RECURRENT DROPOUT, UNIT_FORGET_BIAS\n",
    "\n",
    "\n",
    "# ### CREATE KerasRegressor Object ###\n",
    "# lstm_regressor = KerasRegressor(build_fn=create_lstm_nn,verbose=0)\n",
    "\n",
    "# ### CREATE PARAMETER GRID FOR HYPERPARAMETER TUNING ###\n",
    "# lstm_param_grid = {\n",
    "#     'optimizer':['adam',\n",
    "#                      'adamax',\n",
    "#                      'nadam',\n",
    "#                      'adagrad'\n",
    "#                     ],\n",
    "#     'activation':[None,'tanh'],\n",
    "#     'recurrent_activation': [None,'sigmoid'],\n",
    "#     'use_bias':[True,False],\n",
    "#     'kernel_initializer':['zeros','glorot_uniform'],\n",
    "#     'recurrent_initializer':['orthogonal','glorot_uniform'],\n",
    "#     'bias_initializer':['glorot_uniform'],\n",
    "#     'kernel_regularizer':[None],\n",
    "#     'bias_regularizer':[None],\n",
    "#     'recurrent_regularizer':[None],\n",
    "#     'dropout':[0.0],\n",
    "#     'recurrent_dropout':[0.0],\n",
    "#     'unit_forget_bias':[True,False],\n",
    "#     'units':[50,500],\n",
    "#     'batch_size':[32],\n",
    "#     'epochs':[5]\n",
    "# }\n",
    "\n",
    "# ### CREATE GridSearchCV Object ###\n",
    "# lstm_grid = GridSearchCV(estimator=lstm_regressor,\n",
    "#                   param_grid=lstm_param_grid,\n",
    "#                   scoring=None,\n",
    "#                   n_jobs=-1,\n",
    "#                   cv=2,\n",
    "#                   refit=True,\n",
    "#                  verbose=1\n",
    "#                  )\n",
    "\n",
    "# lstm_grid = lstm_grid.fit(x_train,y_train)\n",
    "\n",
    "# ### BEST CANDIDATE OBTAINED AFTER GRID SEARCH OVER PARAMETER SEARCH SPACE ###\n",
    "# lstm_grid.best_estimator_,lstm_grid.best_index_,lstm_grid.best_params_,lstm_grid.best_score_\n",
    "\n",
    "# ### PLOT OF TUNED MODEL PREDICTION VS ACTUAL VALUES ###\n",
    "# predicted_labels = target_scaler.inverse_transform(lstm_gs.predict(X_test_pca))\n",
    "# actual_labels = Y_test\n",
    "# plt.plot(predicted_labels)\n",
    "# plt.plot(actual_labels)\n",
    "# plt.title('Tuned LSTM Model Prediction')\n",
    "# plt.ylabel('BTC Price (In USD)')\n",
    "# plt.xlabel('Time Periods')\n",
    "# plt.legend(['Predicted','Actual'],loc='best')\n",
    "# plt.show()"
   ]
  },
  {
   "cell_type": "code",
   "execution_count": 26,
   "metadata": {
    "colab": {},
    "colab_type": "code",
    "id": "ioHfUUgYhh7f"
   },
   "outputs": [],
   "source": [
    "# input_data = y_close.values[:-10]\n",
    "# targets = y_close.values[10:]\n",
    "# dataset = tf.keras.preprocessing.timeseries_dataset_from_array(\n",
    "#     input_data, targets, sequence_length=10)\n",
    "# for batch in dataset:\n",
    "#   inputs, targets = batch\n",
    "#   assert np.array_equal(inputs[0], y_close.values[:10])  # First sequence: steps [0-9]\n",
    "#   assert np.array_equal(targets[0], y_close.values[10])  # Corresponding target: step 10\n",
    "#   break"
   ]
  },
  {
   "cell_type": "code",
   "execution_count": 17,
   "metadata": {
    "colab": {},
    "colab_type": "code",
    "id": "4OxHtrLBBIrv"
   },
   "outputs": [],
   "source": [
    "### METHOD TO CREATE GRU NETWORK ###\n",
    "def create_gru_nn(units=500,loss=root_mean_squared_error,optimizer='adam',activation=None,recurrent_activation=None,use_bias=True,\n",
    "                    kernel_initializer='zeros',recurrent_initializer='zeros',bias_initializer='zeros',\n",
    "                    kernel_regularizer=None,recurrent_regularizer=None,bias_regularizer=None,activity_regularizer=None,\n",
    "                          kernel_constraint=None,bias_constraint=None,recurrent_constraint=None,dropout=0.0,recurrent_dropout=0.0):\n",
    "  gru_nn = Sequential()\n",
    "\n",
    "  gru_nn.add(GRU(units = units, activation=activation, recurrent_activation=recurrent_activation,use_bias=use_bias,\n",
    "              kernel_initializer=kernel_initializer, recurrent_initializer=recurrent_initializer, bias_initializer=bias_initializer,\n",
    "              kernel_regularizer=kernel_regularizer, recurrent_regularizer=recurrent_regularizer, bias_regularizer=bias_regularizer, activity_regularizer=activity_regularizer,\n",
    "              kernel_constraint=kernel_constraint,recurrent_constraint=recurrent_constraint, bias_constraint=bias_constraint, dropout=dropout, recurrent_dropout=recurrent_dropout,\n",
    "              implementation=2,return_sequences=True, return_state=False, go_backwards=False, \n",
    "                  stateful=False, unroll=False, reset_after=False))\n",
    "\n",
    "  gru_nn.add(GRU(units = units//2, activation=activation, recurrent_activation=recurrent_activation,use_bias=use_bias,\n",
    "              kernel_initializer=kernel_initializer, recurrent_initializer=recurrent_initializer, bias_initializer=bias_initializer,\n",
    "              kernel_regularizer=kernel_regularizer, recurrent_regularizer=recurrent_regularizer, bias_regularizer=bias_regularizer, activity_regularizer=activity_regularizer,\n",
    "              kernel_constraint=kernel_constraint,recurrent_constraint=recurrent_constraint, bias_constraint=bias_constraint, dropout=dropout, recurrent_dropout=recurrent_dropout,\n",
    "              implementation=2,return_sequences=True, return_state=False, go_backwards=False, \n",
    "                  stateful=False, unroll=False, reset_after=False))\n",
    "\n",
    "  gru_nn.add(GRU(units = units//4, activation=activation, recurrent_activation=recurrent_activation,use_bias=use_bias,\n",
    "              kernel_initializer=kernel_initializer, recurrent_initializer=recurrent_initializer, bias_initializer=bias_initializer,\n",
    "              kernel_regularizer=kernel_regularizer, recurrent_regularizer=recurrent_regularizer, bias_regularizer=bias_regularizer, activity_regularizer=activity_regularizer,\n",
    "              kernel_constraint=kernel_constraint,recurrent_constraint=recurrent_constraint, bias_constraint=bias_constraint, dropout=dropout, recurrent_dropout=recurrent_dropout,\n",
    "              implementation=2,return_sequences=False, return_state=False, go_backwards=False, \n",
    "                  stateful=False, unroll=False, reset_after=False))\n",
    "\n",
    "  gru_nn.add(Dense(units=units//8,activation=activation,use_bias=use_bias,kernel_initializer=kernel_initializer,bias_initializer=bias_initializer,\n",
    "                          kernel_regularizer=kernel_regularizer,bias_regularizer=bias_regularizer,activity_regularizer=activity_regularizer,\n",
    "                          kernel_constraint=kernel_constraint,bias_constraint=bias_constraint))\n",
    "\n",
    "  gru_nn.add(Dense(units=1,activation=activation,use_bias=use_bias,kernel_initializer=kernel_initializer,bias_initializer=bias_initializer,\n",
    "                          kernel_regularizer=kernel_regularizer,bias_regularizer=bias_regularizer,activity_regularizer=activity_regularizer,\n",
    "                          kernel_constraint=kernel_constraint,bias_constraint=bias_constraint))\n",
    "\n",
    "  gru_nn.compile(loss=loss,optimizer=optimizer)\n",
    "\n",
    "  return gru_nn\n"
   ]
  },
  {
   "cell_type": "code",
   "execution_count": 18,
   "metadata": {
    "colab": {
     "base_uri": "https://localhost:8080/",
     "height": 1000
    },
    "colab_type": "code",
    "executionInfo": {
     "elapsed": 648746,
     "status": "ok",
     "timestamp": 1589620126919,
     "user": {
      "displayName": "Sumeet Zankar",
      "photoUrl": "https://lh3.googleusercontent.com/a-/AOh14Gj5a7e6XvDdwJG1sExY_Tc4AaxmktFNowPEG-kN8Q=s64",
      "userId": "09712304352027471477"
     },
     "user_tz": -120
    },
    "id": "jPgG1ez9qMeM",
    "outputId": "c4303df2-cd02-45e4-ba18-a44571523326"
   },
   "outputs": [
    {
     "output_type": "error",
     "ename": "NameError",
     "evalue": "name 'x_train' is not defined",
     "traceback": [
      "\u001b[1;31m---------------------------------------------------------------------------\u001b[0m",
      "\u001b[1;31mNameError\u001b[0m                                 Traceback (most recent call last)",
      "\u001b[1;32m<ipython-input-18-26a470b9941a>\u001b[0m in \u001b[0;36m<module>\u001b[1;34m\u001b[0m\n\u001b[0;32m     18\u001b[0m \u001b[1;33m\u001b[0m\u001b[0m\n\u001b[0;32m     19\u001b[0m \u001b[1;31m### FIT MODEL TO TRAINING DATA ###\u001b[0m\u001b[1;33m\u001b[0m\u001b[1;33m\u001b[0m\u001b[1;33m\u001b[0m\u001b[0m\n\u001b[1;32m---> 20\u001b[1;33m \u001b[0mhistory_gru\u001b[0m\u001b[1;33m=\u001b[0m\u001b[0mgru_regressor\u001b[0m\u001b[1;33m.\u001b[0m\u001b[0mfit\u001b[0m\u001b[1;33m(\u001b[0m\u001b[0mx_train\u001b[0m\u001b[1;33m,\u001b[0m\u001b[0my_train\u001b[0m\u001b[1;33m,\u001b[0m\u001b[0mepochs\u001b[0m\u001b[1;33m=\u001b[0m\u001b[1;36m50\u001b[0m\u001b[1;33m,\u001b[0m\u001b[0mshuffle\u001b[0m\u001b[1;33m=\u001b[0m\u001b[1;32mTrue\u001b[0m\u001b[1;33m,\u001b[0m\u001b[0mvalidation_split\u001b[0m\u001b[1;33m=\u001b[0m\u001b[1;36m0.2\u001b[0m\u001b[1;33m)\u001b[0m\u001b[1;33m\u001b[0m\u001b[1;33m\u001b[0m\u001b[0m\n\u001b[0m",
      "\u001b[1;31mNameError\u001b[0m: name 'x_train' is not defined"
     ]
    }
   ],
   "source": [
    "### CREATE KerasRegressor MODEL USING PREVIOUS FUNCTION ###\n",
    "gru_regressor = KerasRegressor(build_fn=create_gru_nn,verbose=1,\n",
    "                              optimizer=keras.optimizers.Adamax(learning_rate=0.01, beta_1=0.9, beta_2=0.999),\n",
    "                              units=500,\n",
    "                              use_bias=True,\n",
    "                              activation=None,\n",
    "                              recurrent_activation='sigmoid',\n",
    "                              kernel_initializer = keras.initializers.glorot_uniform(seed=980),\n",
    "                              recurrent_initializer = 'orthogonal',\n",
    "                              bias_initializer = keras.initializers.glorot_uniform(seed=988),\n",
    "                              kernel_regularizer = None,\n",
    "                              recurrent_regularizer = None,\n",
    "                              bias_regularizer = None,\n",
    "                              activity_regularizer = None,\n",
    "                              dropout = 0.0,\n",
    "                              recurrent_dropout = 0.0\n",
    "                              )\n",
    "\n",
    "### FIT MODEL TO TRAINING DATA ###\n",
    "history_gru=gru_regressor.fit(x_train,y_train,epochs=50,shuffle=True,validation_split=0.2)"
   ]
  },
  {
   "cell_type": "code",
   "execution_count": null,
   "metadata": {
    "colab": {
     "base_uri": "https://localhost:8080/",
     "height": 295
    },
    "colab_type": "code",
    "executionInfo": {
     "elapsed": 781,
     "status": "ok",
     "timestamp": 1589620196066,
     "user": {
      "displayName": "Sumeet Zankar",
      "photoUrl": "https://lh3.googleusercontent.com/a-/AOh14Gj5a7e6XvDdwJG1sExY_Tc4AaxmktFNowPEG-kN8Q=s64",
      "userId": "09712304352027471477"
     },
     "user_tz": -120
    },
    "id": "wsin0koLqLHF",
    "outputId": "900e3565-235c-42de-c88e-178992bd24a6"
   },
   "outputs": [
    {
     "data": {
      "image/png": "[encoded data removed]",
      "text/plain": [
       "<Figure size 432x288 with 1 Axes>"
      ]
     },
     "metadata": {
      "needs_background": "light",
      "tags": []
     },
     "output_type": "display_data"
    }
   ],
   "source": [
    "### PLOT TRAINING AND VALIDATION LOSS AS FUNCTION OF NO. OF EPOCHS###\n",
    "plt.plot(history_gru.history['loss'])\n",
    "plt.plot(history_gru.history['val_loss'])\n",
    "plt.title('Model loss')\n",
    "plt.ylabel('Loss')\n",
    "plt.xlabel('No. of Epochs')\n",
    "plt.legend(['Train','Test'],loc='upper left')\n",
    "plt.show()"
   ]
  },
  {
   "cell_type": "code",
   "execution_count": null,
   "metadata": {
    "colab": {
     "base_uri": "https://localhost:8080/",
     "height": 312
    },
    "colab_type": "code",
    "executionInfo": {
     "elapsed": 2229,
     "status": "ok",
     "timestamp": 1589622474309,
     "user": {
      "displayName": "Sumeet Zankar",
      "photoUrl": "https://lh3.googleusercontent.com/a-/AOh14Gj5a7e6XvDdwJG1sExY_Tc4AaxmktFNowPEG-kN8Q=s64",
      "userId": "09712304352027471477"
     },
     "user_tz": -120
    },
    "id": "DlV3gp02qNIO",
    "outputId": "36c71b3c-dd18-49ea-f7d4-0833f4c6f114"
   },
   "outputs": [
    {
     "name": "stdout",
     "output_type": "stream",
     "text": [
      "285/285 [==============================] - 0s 1ms/step\n"
     ]
    },
    {
     "data": {
      "image/png": "[encoded data removed]",
      "text/plain": [
       "<Figure size 432x288 with 1 Axes>"
      ]
     },
     "metadata": {
      "needs_background": "light",
      "tags": []
     },
     "output_type": "display_data"
    }
   ],
   "source": [
    "### PLOT OF MODEL PREDICTED VALUES VS ACTUAL VALUES ###\n",
    "predicted_labels = target_scaler.inverse_transform(gru_regressor.predict(x_test))\n",
    "actual_labels = target_scaler.inverse_transform(y_test) \n",
    "plt.plot(predicted_labels)\n",
    "plt.plot(actual_labels)\n",
    "plt.title('GRU Prediction')\n",
    "plt.ylabel('BTC Price (In USD)')\n",
    "plt.xlabel('Time Period (4HRS)')\n",
    "plt.legend(['Predicted','Actual'],loc='best')\n",
    "plt.show()"
   ]
  },
  {
   "cell_type": "code",
   "execution_count": null,
   "metadata": {
    "colab": {},
    "colab_type": "code",
    "id": "7_pKDUr6v36M"
   },
   "outputs": [],
   "source": []
  }
 ],
 "metadata": {
  "colab": {
   "authorship_tag": "ABX9TyNym1FnwjGJAsw6ZM8v9A3E",
   "machine_shape": "hm",
   "name": "deep_learing_project.ipynb",
   "provenance": []
  },
  "kernelspec": {
   "name": "python394jvsc74a57bd0ac59ebe37160ed0dfa835113d9b8498d9f09ceb179beaac4002f036b9467c963",
   "display_name": "Python 3.9.4 64-bit"
  },
  "language_info": {
   "codemirror_mode": {
    "name": "ipython",
    "version": 3
   },
   "file_extension": ".py",
   "mimetype": "text/x-python",
   "name": "python",
   "nbconvert_exporter": "python",
   "pygments_lexer": "ipython3",
   "version": "3.9.4"
  },
  "metadata": {
   "interpreter": {
    "hash": "ac59ebe37160ed0dfa835113d9b8498d9f09ceb179beaac4002f036b9467c963"
   }
  }
 },
 "nbformat": 4,
 "nbformat_minor": 4
}